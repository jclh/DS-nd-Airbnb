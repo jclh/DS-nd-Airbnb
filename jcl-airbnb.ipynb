{
 "cells": [
  {
   "cell_type": "markdown",
   "metadata": {},
   "source": [
    "# Analysis of Airbnb in Boston and Seattle<a class=\"tocSkip\">\n",
    "\n",
    "## Availability, Pricing, and Reviews<a class=\"tocSkip\">\n",
    "\n",
    "---\n",
    "\n",
    "## Motivation and Business Questions\n",
    "\n",
    "This project is an exercise in quantitative, business research using public Airbnb data for the cities of [Boston](https://www.kaggle.com/airbnb/boston) and [Seattle](https://www.kaggle.com/airbnb/seattle/data). \n",
    "\n",
    "The main analysis in the project is an investigation of the following 3 questions:\n",
    "\n",
    ">1. How does the average availability of Airbnb homes vary over time in each city? How does it compare between cities?\n",
    ">2. Is there a clear seasonal pattern for the average nightly rate on Airbnb in Boston and Seattle? Is there a clear weekly pattern?\n",
    ">3. Is there a clear association between a listing’s nightly rate and the number of guest reviews the home has received?"
   ]
  },
  {
   "cell_type": "markdown",
   "metadata": {},
   "source": [
    "---\n",
    "## Understanding the Airbnb data\n",
    "\n",
    "The project relies on three analogous datasets for each city:\n",
    "\n",
    "* `listings.csv`: including full descriptions and average review score \n",
    "* `reviews.csv`: including unique id for each reviewer and detailed comments \n",
    "* `calendar.csv`: including listing id and the price and availability for that day\n",
    "\n",
    "Six (6) `csv` files in total.\n",
    "\n",
    "### Import Python libraries"
   ]
  },
  {
   "cell_type": "code",
   "execution_count": 27,
   "metadata": {
    "nbpresent": {
     "id": "39876805-f220-4d4d-8350-86588062d616"
    },
    "scrolled": true
   },
   "outputs": [],
   "source": [
    "# Import libraries necessary for this project\n",
    "import numpy as np\n",
    "import pandas as pd\n",
    "import sys\n",
    "\n",
    "# Import plotting modules\n",
    "import matplotlib.pyplot as plt\n",
    "import matplotlib.dates as plotdates\n",
    "import matplotlib.ticker as ticker\n",
    "import seaborn as sns\n",
    "\n",
    "# Import StatsModels modules\n",
    "import statsmodels.api as sm"
   ]
  },
  {
   "cell_type": "code",
   "execution_count": 28,
   "metadata": {},
   "outputs": [
    {
     "name": "stdout",
     "output_type": "stream",
     "text": [
      "3.7.1 (default, Oct 23 2018, 14:07:42) \n",
      "[Clang 4.0.1 (tags/RELEASE_401/final)]\n"
     ]
    }
   ],
   "source": [
    "# Print Python version for future reference\n",
    "print(sys.version)"
   ]
  },
  {
   "cell_type": "code",
   "execution_count": 29,
   "metadata": {},
   "outputs": [],
   "source": [
    "# Import utility functions from utility_fs.py\n",
    "import utility_fs as utils"
   ]
  },
  {
   "cell_type": "markdown",
   "metadata": {},
   "source": [
    "The file `utility_fs.py` contains 11 functions that I created to do most of the heavy lifting concerning visualization and analysis, while avoiding duplicated code. "
   ]
  },
  {
   "cell_type": "code",
   "execution_count": 30,
   "metadata": {},
   "outputs": [
    {
     "name": "stdout",
     "output_type": "stream",
     "text": [
      "The autoreload extension is already loaded. To reload it, use:\n",
      "  %reload_ext autoreload\n"
     ]
    }
   ],
   "source": [
    "# IPython magic commands\n",
    "# Autoreload 'utility_fs' when changes are made\n",
    "%load_ext autoreload\n",
    "%autoreload 1\n",
    "%aimport utility_fs\n",
    "\n",
    "# Display plots inline\n",
    "%matplotlib inline\n",
    "%config InlineBackend.figure_format = 'retina'"
   ]
  },
  {
   "cell_type": "code",
   "execution_count": 31,
   "metadata": {},
   "outputs": [],
   "source": [
    "# Set plots aesthetic parameters in one step.\n",
    "sns.set(context='notebook', color_codes=True, font='sans-serif', \n",
    "        font_scale=1.15)"
   ]
  },
  {
   "cell_type": "markdown",
   "metadata": {
    "nbpresent": {
     "id": "7f493ce1-93d3-4546-aa06-4a6aa0f31dc6"
    }
   },
   "source": [
    "### Load the data\n",
    "\n",
    "The data will be stored in a hierarchical dictionary with city — Boston, Seattle — as the first level and dataset type — calendar, listings, reviews — as the second level. "
   ]
  },
  {
   "cell_type": "code",
   "execution_count": 32,
   "metadata": {
    "nbpresent": {
     "id": "3a58ee3c-1c44-4a3b-9c25-03376a7fd280"
    }
   },
   "outputs": [],
   "source": [
    "# Specify paths to data and filenames\n",
    "cities = ['Boston', 'Seattle']\n",
    "filenames = ['calendar', 'listings', 'reviews']"
   ]
  },
  {
   "cell_type": "code",
   "execution_count": 33,
   "metadata": {},
   "outputs": [],
   "source": [
    "# Read csv files and store in hierarchical dictionary\n",
    "data = dict()\n",
    "\n",
    "# Loop over cities\n",
    "for city in cities:\n",
    "    data[city] = dict()\n",
    "    # Loop over files\n",
    "    for filename in filenames:\n",
    "        # Read csv into dictionary\n",
    "        path = 'data/' + city + '/' + filename + '.csv'\n",
    "        data[city][filename] = pd.read_csv(path, sep=',', quotechar='\"')"
   ]
  },
  {
   "cell_type": "markdown",
   "metadata": {},
   "source": [
    "The `data` dictionary now contains all the primary data I will be using for this project. For example, the `calendar.csv` data for Boston is a Pandas DataFrame that is returned by the expression `data['Boston']['calendar']`."
   ]
  },
  {
   "cell_type": "markdown",
   "metadata": {},
   "source": [
    "### High-level description of datasets\n",
    "\n",
    "This high-level inspection of the datasets involves two main objectives. \n",
    "1. Determine the size and shape of the datasets. \n",
    "2. Identify the major properties of the datatypes in each DataFrame by inspecting the first few rows of as many columns as possible.\n",
    "\n",
    "The utility function `print_data()` provides a high-level view of the content of the datasets we are working with. The information printed by the function is described below:\n",
    "\n",
    "1. Shape — total rows x total columns — of all 3 datasets for the city.\n",
    "2. First n rows of `calendar.csv`.\n",
    "3. First n rows of `listings.csv`.\n",
    "4. First n rows of `reviews.csv`.\n",
    "\n",
    "#### Boston datasets"
   ]
  },
  {
   "cell_type": "code",
   "execution_count": 34,
   "metadata": {},
   "outputs": [
    {
     "name": "stdout",
     "output_type": "stream",
     "text": [
      "(1) Shape of datasets for Boston:\n",
      "\n",
      "calendar.csv - 1,308,890 x  4\n",
      "listings.csv -     3,585 x 95\n",
      " reviews.csv -    68,275 x  6\n",
      "\n",
      "(2) First few rows of Boston's calendar.csv:\n"
     ]
    },
    {
     "data": {
      "text/html": [
       "<div>\n",
       "<style scoped>\n",
       "    .dataframe tbody tr th:only-of-type {\n",
       "        vertical-align: middle;\n",
       "    }\n",
       "\n",
       "    .dataframe tbody tr th {\n",
       "        vertical-align: top;\n",
       "    }\n",
       "\n",
       "    .dataframe thead th {\n",
       "        text-align: right;\n",
       "    }\n",
       "</style>\n",
       "<table border=\"1\" class=\"dataframe\">\n",
       "  <thead>\n",
       "    <tr style=\"text-align: right;\">\n",
       "      <th></th>\n",
       "      <th>listing_id</th>\n",
       "      <th>date</th>\n",
       "      <th>available</th>\n",
       "      <th>price</th>\n",
       "    </tr>\n",
       "  </thead>\n",
       "  <tbody>\n",
       "    <tr>\n",
       "      <th>0</th>\n",
       "      <td>12147973</td>\n",
       "      <td>2017-09-05</td>\n",
       "      <td>f</td>\n",
       "      <td>NaN</td>\n",
       "    </tr>\n",
       "  </tbody>\n",
       "</table>\n",
       "</div>"
      ],
      "text/plain": [
       "   listing_id        date available price\n",
       "0    12147973  2017-09-05         f   NaN"
      ]
     },
     "metadata": {},
     "output_type": "display_data"
    },
    {
     "name": "stdout",
     "output_type": "stream",
     "text": [
      "\n",
      "(3) First few rows of Boston's listings.csv:\n"
     ]
    },
    {
     "data": {
      "text/html": [
       "<div>\n",
       "<style scoped>\n",
       "    .dataframe tbody tr th:only-of-type {\n",
       "        vertical-align: middle;\n",
       "    }\n",
       "\n",
       "    .dataframe tbody tr th {\n",
       "        vertical-align: top;\n",
       "    }\n",
       "\n",
       "    .dataframe thead th {\n",
       "        text-align: right;\n",
       "    }\n",
       "</style>\n",
       "<table border=\"1\" class=\"dataframe\">\n",
       "  <thead>\n",
       "    <tr style=\"text-align: right;\">\n",
       "      <th></th>\n",
       "      <th>id</th>\n",
       "      <th>listing_url</th>\n",
       "      <th>scrape_id</th>\n",
       "      <th>last_scraped</th>\n",
       "      <th>name</th>\n",
       "      <th>summary</th>\n",
       "      <th>space</th>\n",
       "      <th>description</th>\n",
       "      <th>experiences_offered</th>\n",
       "      <th>neighborhood_overview</th>\n",
       "      <th>...</th>\n",
       "      <th>review_scores_value</th>\n",
       "      <th>requires_license</th>\n",
       "      <th>license</th>\n",
       "      <th>jurisdiction_names</th>\n",
       "      <th>instant_bookable</th>\n",
       "      <th>cancellation_policy</th>\n",
       "      <th>require_guest_profile_picture</th>\n",
       "      <th>require_guest_phone_verification</th>\n",
       "      <th>calculated_host_listings_count</th>\n",
       "      <th>reviews_per_month</th>\n",
       "    </tr>\n",
       "  </thead>\n",
       "  <tbody>\n",
       "    <tr>\n",
       "      <th>0</th>\n",
       "      <td>12147973</td>\n",
       "      <td>https://www.airbnb.com/rooms/12147973</td>\n",
       "      <td>20160906204935</td>\n",
       "      <td>2016-09-07</td>\n",
       "      <td>Sunny Bungalow in the City</td>\n",
       "      <td>Cozy, sunny, family home.  Master bedroom high...</td>\n",
       "      <td>The house has an open and cozy feel at the sam...</td>\n",
       "      <td>Cozy, sunny, family home.  Master bedroom high...</td>\n",
       "      <td>none</td>\n",
       "      <td>Roslindale is quiet, convenient and friendly. ...</td>\n",
       "      <td>...</td>\n",
       "      <td>NaN</td>\n",
       "      <td>f</td>\n",
       "      <td>NaN</td>\n",
       "      <td>NaN</td>\n",
       "      <td>f</td>\n",
       "      <td>moderate</td>\n",
       "      <td>f</td>\n",
       "      <td>f</td>\n",
       "      <td>1</td>\n",
       "      <td>NaN</td>\n",
       "    </tr>\n",
       "  </tbody>\n",
       "</table>\n",
       "<p>1 rows × 95 columns</p>\n",
       "</div>"
      ],
      "text/plain": [
       "         id                            listing_url       scrape_id  \\\n",
       "0  12147973  https://www.airbnb.com/rooms/12147973  20160906204935   \n",
       "\n",
       "  last_scraped                        name  \\\n",
       "0   2016-09-07  Sunny Bungalow in the City   \n",
       "\n",
       "                                             summary  \\\n",
       "0  Cozy, sunny, family home.  Master bedroom high...   \n",
       "\n",
       "                                               space  \\\n",
       "0  The house has an open and cozy feel at the sam...   \n",
       "\n",
       "                                         description experiences_offered  \\\n",
       "0  Cozy, sunny, family home.  Master bedroom high...                none   \n",
       "\n",
       "                               neighborhood_overview  ... review_scores_value  \\\n",
       "0  Roslindale is quiet, convenient and friendly. ...  ...                 NaN   \n",
       "\n",
       "  requires_license license jurisdiction_names instant_bookable  \\\n",
       "0                f     NaN                NaN                f   \n",
       "\n",
       "  cancellation_policy require_guest_profile_picture  \\\n",
       "0            moderate                             f   \n",
       "\n",
       "  require_guest_phone_verification calculated_host_listings_count  \\\n",
       "0                                f                              1   \n",
       "\n",
       "   reviews_per_month  \n",
       "0                NaN  \n",
       "\n",
       "[1 rows x 95 columns]"
      ]
     },
     "metadata": {},
     "output_type": "display_data"
    },
    {
     "name": "stdout",
     "output_type": "stream",
     "text": [
      "\n",
      "(4) First few rows of Boston's reviews.csv:\n"
     ]
    },
    {
     "data": {
      "text/html": [
       "<div>\n",
       "<style scoped>\n",
       "    .dataframe tbody tr th:only-of-type {\n",
       "        vertical-align: middle;\n",
       "    }\n",
       "\n",
       "    .dataframe tbody tr th {\n",
       "        vertical-align: top;\n",
       "    }\n",
       "\n",
       "    .dataframe thead th {\n",
       "        text-align: right;\n",
       "    }\n",
       "</style>\n",
       "<table border=\"1\" class=\"dataframe\">\n",
       "  <thead>\n",
       "    <tr style=\"text-align: right;\">\n",
       "      <th></th>\n",
       "      <th>listing_id</th>\n",
       "      <th>id</th>\n",
       "      <th>date</th>\n",
       "      <th>reviewer_id</th>\n",
       "      <th>reviewer_name</th>\n",
       "      <th>comments</th>\n",
       "    </tr>\n",
       "  </thead>\n",
       "  <tbody>\n",
       "    <tr>\n",
       "      <th>0</th>\n",
       "      <td>1178162</td>\n",
       "      <td>4724140</td>\n",
       "      <td>2013-05-21</td>\n",
       "      <td>4298113</td>\n",
       "      <td>Olivier</td>\n",
       "      <td>My stay at islam's place was really cool! Good...</td>\n",
       "    </tr>\n",
       "  </tbody>\n",
       "</table>\n",
       "</div>"
      ],
      "text/plain": [
       "   listing_id       id        date  reviewer_id reviewer_name  \\\n",
       "0     1178162  4724140  2013-05-21      4298113       Olivier   \n",
       "\n",
       "                                            comments  \n",
       "0  My stay at islam's place was really cool! Good...  "
      ]
     },
     "metadata": {},
     "output_type": "display_data"
    }
   ],
   "source": [
    "# Call 'print_data()' for Boston\n",
    "utils.print_data(data=data, city='Boston', rows=1)"
   ]
  },
  {
   "cell_type": "markdown",
   "metadata": {},
   "source": [
    "#### Seattle datasets"
   ]
  },
  {
   "cell_type": "code",
   "execution_count": 35,
   "metadata": {},
   "outputs": [
    {
     "name": "stdout",
     "output_type": "stream",
     "text": [
      "(1) Shape of datasets for Seattle:\n",
      "\n",
      "calendar.csv - 1,393,570 x  4\n",
      "listings.csv -     3,818 x 92\n",
      " reviews.csv -    84,849 x  6\n",
      "\n",
      "(2) First few rows of Seattle's calendar.csv:\n"
     ]
    },
    {
     "data": {
      "text/html": [
       "<div>\n",
       "<style scoped>\n",
       "    .dataframe tbody tr th:only-of-type {\n",
       "        vertical-align: middle;\n",
       "    }\n",
       "\n",
       "    .dataframe tbody tr th {\n",
       "        vertical-align: top;\n",
       "    }\n",
       "\n",
       "    .dataframe thead th {\n",
       "        text-align: right;\n",
       "    }\n",
       "</style>\n",
       "<table border=\"1\" class=\"dataframe\">\n",
       "  <thead>\n",
       "    <tr style=\"text-align: right;\">\n",
       "      <th></th>\n",
       "      <th>listing_id</th>\n",
       "      <th>date</th>\n",
       "      <th>available</th>\n",
       "      <th>price</th>\n",
       "    </tr>\n",
       "  </thead>\n",
       "  <tbody>\n",
       "    <tr>\n",
       "      <th>0</th>\n",
       "      <td>241032</td>\n",
       "      <td>2016-01-04</td>\n",
       "      <td>t</td>\n",
       "      <td>$85.00</td>\n",
       "    </tr>\n",
       "  </tbody>\n",
       "</table>\n",
       "</div>"
      ],
      "text/plain": [
       "   listing_id        date available   price\n",
       "0      241032  2016-01-04         t  $85.00"
      ]
     },
     "metadata": {},
     "output_type": "display_data"
    },
    {
     "name": "stdout",
     "output_type": "stream",
     "text": [
      "\n",
      "(3) First few rows of Seattle's listings.csv:\n"
     ]
    },
    {
     "data": {
      "text/html": [
       "<div>\n",
       "<style scoped>\n",
       "    .dataframe tbody tr th:only-of-type {\n",
       "        vertical-align: middle;\n",
       "    }\n",
       "\n",
       "    .dataframe tbody tr th {\n",
       "        vertical-align: top;\n",
       "    }\n",
       "\n",
       "    .dataframe thead th {\n",
       "        text-align: right;\n",
       "    }\n",
       "</style>\n",
       "<table border=\"1\" class=\"dataframe\">\n",
       "  <thead>\n",
       "    <tr style=\"text-align: right;\">\n",
       "      <th></th>\n",
       "      <th>id</th>\n",
       "      <th>listing_url</th>\n",
       "      <th>scrape_id</th>\n",
       "      <th>last_scraped</th>\n",
       "      <th>name</th>\n",
       "      <th>summary</th>\n",
       "      <th>space</th>\n",
       "      <th>description</th>\n",
       "      <th>experiences_offered</th>\n",
       "      <th>neighborhood_overview</th>\n",
       "      <th>...</th>\n",
       "      <th>review_scores_value</th>\n",
       "      <th>requires_license</th>\n",
       "      <th>license</th>\n",
       "      <th>jurisdiction_names</th>\n",
       "      <th>instant_bookable</th>\n",
       "      <th>cancellation_policy</th>\n",
       "      <th>require_guest_profile_picture</th>\n",
       "      <th>require_guest_phone_verification</th>\n",
       "      <th>calculated_host_listings_count</th>\n",
       "      <th>reviews_per_month</th>\n",
       "    </tr>\n",
       "  </thead>\n",
       "  <tbody>\n",
       "    <tr>\n",
       "      <th>0</th>\n",
       "      <td>241032</td>\n",
       "      <td>https://www.airbnb.com/rooms/241032</td>\n",
       "      <td>20160104002432</td>\n",
       "      <td>2016-01-04</td>\n",
       "      <td>Stylish Queen Anne Apartment</td>\n",
       "      <td>NaN</td>\n",
       "      <td>Make your self at home in this charming one-be...</td>\n",
       "      <td>Make your self at home in this charming one-be...</td>\n",
       "      <td>none</td>\n",
       "      <td>NaN</td>\n",
       "      <td>...</td>\n",
       "      <td>10.0</td>\n",
       "      <td>f</td>\n",
       "      <td>NaN</td>\n",
       "      <td>WASHINGTON</td>\n",
       "      <td>f</td>\n",
       "      <td>moderate</td>\n",
       "      <td>f</td>\n",
       "      <td>f</td>\n",
       "      <td>2</td>\n",
       "      <td>4.07</td>\n",
       "    </tr>\n",
       "  </tbody>\n",
       "</table>\n",
       "<p>1 rows × 92 columns</p>\n",
       "</div>"
      ],
      "text/plain": [
       "       id                          listing_url       scrape_id last_scraped  \\\n",
       "0  241032  https://www.airbnb.com/rooms/241032  20160104002432   2016-01-04   \n",
       "\n",
       "                           name summary  \\\n",
       "0  Stylish Queen Anne Apartment     NaN   \n",
       "\n",
       "                                               space  \\\n",
       "0  Make your self at home in this charming one-be...   \n",
       "\n",
       "                                         description experiences_offered  \\\n",
       "0  Make your self at home in this charming one-be...                none   \n",
       "\n",
       "  neighborhood_overview  ... review_scores_value requires_license license  \\\n",
       "0                   NaN  ...                10.0                f     NaN   \n",
       "\n",
       "  jurisdiction_names instant_bookable cancellation_policy  \\\n",
       "0         WASHINGTON                f            moderate   \n",
       "\n",
       "   require_guest_profile_picture require_guest_phone_verification  \\\n",
       "0                              f                                f   \n",
       "\n",
       "  calculated_host_listings_count reviews_per_month  \n",
       "0                              2              4.07  \n",
       "\n",
       "[1 rows x 92 columns]"
      ]
     },
     "metadata": {},
     "output_type": "display_data"
    },
    {
     "name": "stdout",
     "output_type": "stream",
     "text": [
      "\n",
      "(4) First few rows of Seattle's reviews.csv:\n"
     ]
    },
    {
     "data": {
      "text/html": [
       "<div>\n",
       "<style scoped>\n",
       "    .dataframe tbody tr th:only-of-type {\n",
       "        vertical-align: middle;\n",
       "    }\n",
       "\n",
       "    .dataframe tbody tr th {\n",
       "        vertical-align: top;\n",
       "    }\n",
       "\n",
       "    .dataframe thead th {\n",
       "        text-align: right;\n",
       "    }\n",
       "</style>\n",
       "<table border=\"1\" class=\"dataframe\">\n",
       "  <thead>\n",
       "    <tr style=\"text-align: right;\">\n",
       "      <th></th>\n",
       "      <th>listing_id</th>\n",
       "      <th>id</th>\n",
       "      <th>date</th>\n",
       "      <th>reviewer_id</th>\n",
       "      <th>reviewer_name</th>\n",
       "      <th>comments</th>\n",
       "    </tr>\n",
       "  </thead>\n",
       "  <tbody>\n",
       "    <tr>\n",
       "      <th>0</th>\n",
       "      <td>7202016</td>\n",
       "      <td>38917982</td>\n",
       "      <td>2015-07-19</td>\n",
       "      <td>28943674</td>\n",
       "      <td>Bianca</td>\n",
       "      <td>Cute and cozy place. Perfect location to every...</td>\n",
       "    </tr>\n",
       "  </tbody>\n",
       "</table>\n",
       "</div>"
      ],
      "text/plain": [
       "   listing_id        id        date  reviewer_id reviewer_name  \\\n",
       "0     7202016  38917982  2015-07-19     28943674        Bianca   \n",
       "\n",
       "                                            comments  \n",
       "0  Cute and cozy place. Perfect location to every...  "
      ]
     },
     "metadata": {},
     "output_type": "display_data"
    }
   ],
   "source": [
    "# Call 'print_data()' for Seattle\n",
    "utils.print_data(data=data, city='Seattle', rows=1)"
   ]
  },
  {
   "cell_type": "markdown",
   "metadata": {},
   "source": [
    "Above we can see that the datasets are analogous for the two cities, with some minor exceptions involving the number of features in the `listings.csv` datasets, as described below:\n",
    "\n",
    "- `calendar.csv`:  Time-series data for the Airbnb homes including availability and price.\n",
    "<br> - Boston: 1,308,890 home by date pairings (rows) x  4 features (columns).\n",
    "<br> - Seattle: 1,393,570 home by date pairings (rows) x  4 features (columns). \n",
    "\n",
    "\n",
    "- `listings.csv`:  Listing-level data for the Airbnb homes.\n",
    "<br> - Boston: 3,585 homes/listings (rows) x  95 features (columns).\n",
    "<br> - Seattle: 3,818 homes/listings (rows) x  92 features (columns). \n",
    "\n",
    "\n",
    "- `reviews.csv`:  Review-level data for the Airbnb homes.\n",
    "<br> - Boston: 68,275 reviews (rows) x  6 features (columns).\n",
    "<br> - Seattle: 84,849 reviews (rows) x  6 features (columns)."
   ]
  },
  {
   "cell_type": "markdown",
   "metadata": {},
   "source": [
    "---\n",
    "## Assessing missing data\n",
    "\n",
    "First, I will look at the total proportion of missing values in the datasets. Individually these proportions are not very useful, but as a whole they may suggest systematic problems with the data, such as:\n",
    "\n",
    "1. The pattern of total missing values across all 3 datasets of one of the cities differs substantially from the other city. \n",
    "2. One of the data sources, e.g. `reviews.csv`, has a major missing values problem for one city but not for the other city. \n",
    "\n",
    "Both of these potentially problematic scenarios may prompt us to separate the analyses of the two cities, in order to avoid merging data sources that are systematically different with respect to missing values. "
   ]
  },
  {
   "cell_type": "code",
   "execution_count": 36,
   "metadata": {},
   "outputs": [
    {
     "name": "stdout",
     "output_type": "stream",
     "text": [
      "Percentage of total missing values in data\n",
      "\n",
      "Boston:\n",
      "calendar.csv: 12.72%\n",
      "listings.csv: 14.75%\n",
      "reviews.csv: 0.01%\n",
      "\n",
      "Seattle:\n",
      "calendar.csv: 8.23%\n",
      "listings.csv: 8.49%\n",
      "reviews.csv: 0.00%\n"
     ]
    }
   ],
   "source": [
    "# Print title \n",
    "print('Percentage of total missing values in data')\n",
    "\n",
    "# Loop over cities\n",
    "for city, values in data.items():\n",
    "    print('\\n{}:'.format(city))\n",
    "    # Loop over datasets\n",
    "    for name, df in values.items():\n",
    "        # Calculate total percentage of missing values\n",
    "        pc = df.isnull().sum().sum() / df.size\n",
    "        print('{}.csv: {:>2.2%}'.format(name, pc))"
   ]
  },
  {
   "cell_type": "markdown",
   "metadata": {},
   "source": [
    "The pattern of total missing values across the calendar, listings, and reviews datasets seems to be the same for the two cities. This leads me to believe that the two cities can be analyzed together without a major concern regarding missing values introducing significant bias. "
   ]
  },
  {
   "cell_type": "markdown",
   "metadata": {},
   "source": [
    "### Missing data by column\n",
    "\n",
    "In this section I analyze the patterns of missing data within columns. The purpose of this assessment is to determine which features can be used for the main analyses and which features may be problematic due to either too many missing values or missing data that occurs in a systematic way. \n",
    "\n",
    "The utility function `hist_miss_by_cols()` used below builds histograms to visualize the distribution of missing data by column, measured as percentage of missing values. \n",
    "\n",
    "Let's first look at all the data at once:"
   ]
  },
  {
   "cell_type": "code",
   "execution_count": 37,
   "metadata": {
    "scrolled": true
   },
   "outputs": [
    {
     "data": {
      "image/png": "[encoded data removed]",
      "text/plain": [
       "<Figure size 792x792 with 6 Axes>"
      ]
     },
     "metadata": {
      "image/png": {
       "height": 713,
       "width": 684
      }
     },
     "output_type": "display_data"
    }
   ],
   "source": [
    "# Call function 'hist_miss_by_cols()'\n",
    "utils.hist_miss_by_cols(data, data_name='all')"
   ]
  },
  {
   "cell_type": "markdown",
   "metadata": {},
   "source": [
    "These histograms show that the patterns of missing data are similar across the two cities, but vary significantly between the 3 datasets of a single city. \n",
    "\n",
    "The following sections assess each dataset separately. "
   ]
  },
  {
   "cell_type": "markdown",
   "metadata": {},
   "source": [
    "#### Columns in `calendar.csv`"
   ]
  },
  {
   "cell_type": "code",
   "execution_count": 38,
   "metadata": {},
   "outputs": [
    {
     "data": {
      "image/png": "[encoded data removed]",
      "text/plain": [
       "<Figure size 792x360 with 2 Axes>"
      ]
     },
     "metadata": {
      "image/png": {
       "height": 343,
       "width": 677
      }
     },
     "output_type": "display_data"
    }
   ],
   "source": [
    "# Call function 'hist_miss_by_cols()'\n",
    "utils.hist_miss_by_cols(data, data_name='calendar')"
   ]
  },
  {
   "cell_type": "markdown",
   "metadata": {},
   "source": [
    "The histograms show that 1 of the 4 columns in `calendar.csv` presents a possible problem concerning missing values. \n",
    "\n",
    "Let's explore this further by calling the utility function `missing_by_column()`, which prints the percentage of missing values per column for a given dataset and both cities, in descending order of percentage of values missing.  "
   ]
  },
  {
   "cell_type": "code",
   "execution_count": 39,
   "metadata": {},
   "outputs": [
    {
     "name": "stdout",
     "output_type": "stream",
     "text": [
      "Percent missing values per column in calendar.csv\n",
      "\n",
      "       — Boston —        \n",
      "price         50.9%\n",
      "available      0.0%\n",
      "date           0.0%\n",
      "listing_id     0.0%\n",
      "dtype: object\n",
      "\n",
      "       — Seattle —       \n",
      "price         32.9%\n",
      "available      0.0%\n",
      "date           0.0%\n",
      "listing_id     0.0%\n",
      "dtype: object\n"
     ]
    }
   ],
   "source": [
    "# Call function 'missing_by_column()'\n",
    "utils.missing_by_column(data, data_name='calendar')"
   ]
  },
  {
   "cell_type": "markdown",
   "metadata": {},
   "source": [
    "All of the missing values in `calendar.csv` correspond to the feature `price`. \n",
    "\n",
    "Given the presence of another feature called `available`, the most reasonable explanation of this behavior is that `price` only takes values for dates in which the Airbnb listing is recorded as available. \n",
    "\n",
    "I check this hyphothesis below, by separating the dataset based on whether listings are recorded as available or not. "
   ]
  },
  {
   "cell_type": "code",
   "execution_count": 40,
   "metadata": {},
   "outputs": [],
   "source": [
    "# Helper function\n",
    "def pc_missing_price(status='available'):\n",
    "    \"\"\"Print percent of 'price' values missing, given \n",
    "    availability status.\n",
    "\n",
    "    Args: \n",
    "        status (str): 'available' or 'unavailable'.\n",
    "\n",
    "    \"\"\"\n",
    "    if status == 'available':\n",
    "        code = 't'\n",
    "    elif status == 'unavailable':\n",
    "        code = 'f'\n",
    "    print('\\n(a) When listing is {}:'.format(status))\n",
    "    \n",
    "    # Loop over cities\n",
    "    for city, values in data.items():\n",
    "        df = values['calendar'][values['calendar']['available'] == code]\n",
    "        pc = df['price'].isnull().sum() / df.shape[0] * 100\n",
    "        print('{:7} {:>4.0f}%'.format(city, pc))"
   ]
  },
  {
   "cell_type": "code",
   "execution_count": 41,
   "metadata": {},
   "outputs": [
    {
     "name": "stdout",
     "output_type": "stream",
     "text": [
      "Proportion of \"price\" values missing in calendar.csv\n",
      "\n",
      "(a) When listing is available:\n",
      "Boston     0%\n",
      "Seattle    0%\n",
      "\n",
      "(a) When listing is unavailable:\n",
      "Boston   100%\n",
      "Seattle  100%\n"
     ]
    }
   ],
   "source": [
    "# Print title\n",
    "print('Proportion of \"price\" values missing in calendar.csv')\n",
    "\n",
    "# Missing values when listing is available\n",
    "pc_missing_price(status='available')\n",
    "\n",
    "# Missing values when listing is not available\n",
    "pc_missing_price(status='unavailable')"
   ]
  },
  {
   "cell_type": "markdown",
   "metadata": {},
   "source": [
    "Hence, we can confirm that missing values in `price` only occur when the listing is recorded as unavailable, which means that the missing values are not a problem of the data in `calendar.csv`.\n",
    "\n",
    "The next step is to create a container, `keep_features`, which stores the names of the columns to be kept for the main analyses. "
   ]
  },
  {
   "cell_type": "code",
   "execution_count": 42,
   "metadata": {},
   "outputs": [],
   "source": [
    "# Create a dictionary to track unproblematic features \n",
    "# to keep for subsequent analyses \n",
    "keep_features = dict()\n",
    "keep_features['calendar'] = set(data['Boston']['calendar'].columns)"
   ]
  },
  {
   "cell_type": "markdown",
   "metadata": {},
   "source": [
    "#### Columns in `listings.csv`"
   ]
  },
  {
   "cell_type": "code",
   "execution_count": 43,
   "metadata": {},
   "outputs": [
    {
     "data": {
      "image/png": "[encoded data removed]",
      "text/plain": [
       "<Figure size 792x360 with 2 Axes>"
      ]
     },
     "metadata": {
      "image/png": {
       "height": 343,
       "width": 684
      }
     },
     "output_type": "display_data"
    }
   ],
   "source": [
    "# Call function 'hist_miss_by_cols()'\n",
    "utils.hist_miss_by_cols(data, data_name='listings')"
   ]
  },
  {
   "cell_type": "markdown",
   "metadata": {},
   "source": [
    "At a high level, the `listings.csv` datasets do seem to be affected by problems of systematic missing data, including the obvious issue of having some columns with 100% missing values. \n",
    "\n",
    "Let’s explore this in detail:"
   ]
  },
  {
   "cell_type": "code",
   "execution_count": null,
   "metadata": {},
   "outputs": [
    {
     "name": "stdout",
     "output_type": "stream",
     "text": [
      "Percent missing values per column in listings.csv\n",
      "\n",
      "       — Boston —        \n",
      "neighbourhood_group_cleansed    100.0%\n",
      "jurisdiction_names              100.0%\n",
      "license                         100.0%\n",
      "has_availability                100.0%\n",
      "square_feet                      98.4%\n",
      "monthly_price                    75.2%\n",
      "weekly_price                     75.1%\n",
      "security_deposit                 62.6%\n",
      "notes                            55.1%\n",
      "interaction                      43.3%\n",
      "access                           41.5%\n",
      "neighborhood_overview            39.5%\n",
      "host_about                       36.5%\n",
      "transit                          36.0%\n",
      "house_rules                      33.2%\n",
      "cleaning_fee                     30.9%\n",
      "space                            29.5%\n",
      "review_scores_accuracy           23.0%\n",
      "review_scores_location           22.9%\n",
      "review_scores_value              22.9%\n",
      "review_scores_checkin            22.9%\n",
      "dtype: object\n",
      "\n",
      "       — Seattle —       \n",
      "license                        100.0%\n",
      "square_feet                     97.5%\n",
      "monthly_price                   60.3%\n",
      "security_deposit                51.1%\n",
      "weekly_price                    47.4%\n",
      "notes                           42.1%\n",
      "neighborhood_overview           27.0%\n",
      "cleaning_fee                    27.0%\n",
      "transit                         24.5%\n",
      "host_about                      22.5%\n",
      "host_acceptance_rate            20.2%\n",
      "review_scores_accuracy          17.2%\n",
      "review_scores_checkin           17.2%\n",
      "review_scores_value             17.2%\n",
      "review_scores_location          17.2%\n",
      "review_scores_cleanliness       17.1%\n",
      "review_scores_communication     17.1%\n",
      "review_scores_rating            16.9%\n",
      "reviews_per_month               16.4%\n",
      "first_review                    16.4%\n",
      "last_review                     16.4%\n",
      "dtype: object\n"
     ]
    }
   ],
   "source": [
    "# Call function 'missing_by_column()'\n",
    "utils.missing_by_column(data, data_name='listings', n_features=20)"
   ]
  },
  {
   "cell_type": "markdown",
   "metadata": {},
   "source": [
    "Based on the results above (i.e., percentage of missing values per column), I will drop the columns `license`, `neighbourhood_group_cleansed`, `has_availability`, `jurisdiction_names` due to having 100%  missing values. Also, I will drop `square_feet` which has approximately 98% missing values. \n",
    "\n",
    "The rest of features that include a large percentage of missing values — e.g., ` weekly_price`, `monthly_price` — will be kept, since the existence of any value for these features in a listing could be relevant.  "
   ]
  },
  {
   "cell_type": "code",
   "execution_count": null,
   "metadata": {},
   "outputs": [],
   "source": [
    "# Features to drop due to missing data\n",
    "drop_features = set([\n",
    "    'license', \n",
    "    'neighbourhood_group_cleansed', \n",
    "    'has_availability', \n",
    "    'jurisdiction_names', \n",
    "    'square_feet'\n",
    "    ])"
   ]
  },
  {
   "cell_type": "markdown",
   "metadata": {},
   "source": [
    "Update the container `keep_features` to track columns in `listings.csv`:"
   ]
  },
  {
   "cell_type": "code",
   "execution_count": null,
   "metadata": {},
   "outputs": [],
   "source": [
    "# Get list of all original features in 'listings.csv'\n",
    "features_boston = set(data['Boston']['listings'].columns)\n",
    "features_seattle = set(data['Seattle']['listings'].columns)\n",
    "# Only keep features in both datasets but in the set of features to drop\n",
    "keep_features['listings'] = (features_boston & features_seattle) \\\n",
    "                            - drop_features"
   ]
  },
  {
   "cell_type": "markdown",
   "metadata": {},
   "source": [
    "#### Columns in `reviews.csv`\n",
    "\n",
    "Since `reviews.csv` has only 6 columns and almost no missing data, I will not plot the histograms and will rely on displaying the column-level missing data statistics. "
   ]
  },
  {
   "cell_type": "code",
   "execution_count": null,
   "metadata": {},
   "outputs": [
    {
     "name": "stdout",
     "output_type": "stream",
     "text": [
      "Percent missing values per column in reviews.csv\n",
      "\n",
      "       — Boston —        \n",
      "comments         0.1%\n",
      "reviewer_name    0.0%\n",
      "reviewer_id      0.0%\n",
      "date             0.0%\n",
      "id               0.0%\n",
      "listing_id       0.0%\n",
      "dtype: object\n",
      "\n",
      "       — Seattle —       \n",
      "comments         0.0%\n",
      "reviewer_name    0.0%\n",
      "reviewer_id      0.0%\n",
      "date             0.0%\n",
      "id               0.0%\n",
      "listing_id       0.0%\n",
      "dtype: object\n"
     ]
    }
   ],
   "source": [
    "# Call function 'missing_by_column()'\n",
    "utils.missing_by_column(data, data_name='reviews')"
   ]
  },
  {
   "cell_type": "markdown",
   "metadata": {},
   "source": [
    "The `reviews.csv` datasets for both cities have the same features and missing values are negligible. Therefore, I will keep all 6 features. \n",
    "\n",
    "Update the container `keep_features` to track columns in `reviews.csv`:"
   ]
  },
  {
   "cell_type": "code",
   "execution_count": null,
   "metadata": {},
   "outputs": [],
   "source": [
    "keep_features['reviews'] = set(data['Boston']['reviews'].columns)"
   ]
  },
  {
   "cell_type": "markdown",
   "metadata": {},
   "source": [
    "### Missing data by row\n",
    "Having considered the patterns of missing data within columns, we now move to a similar exercise within rows. \n",
    "\n",
    "The utility function `count_rows_missing()` used below performs two tasks:\n",
    "1. Prints the count of rows per number of features missing. That is, it iterates from zero to the total number of features (or columns) and shows how many rows in the dataset are associated with that number of missing features. \n",
    "2. Displays a histogram to visualize the distribution of missing features per row in the dataset.\n",
    "#### Rows in `calendar.csv`"
   ]
  },
  {
   "cell_type": "code",
   "execution_count": null,
   "metadata": {
    "scrolled": true
   },
   "outputs": [
    {
     "name": "stdout",
     "output_type": "stream",
     "text": [
      "Count of rows per number of missing features in calendar.csv\n",
      "\n",
      "Boston:\n",
      " 0 of  4 missing: 643,037 rows\n",
      " 1 of  4 missing: 665,853 rows\n"
     ]
    },
    {
     "data": {
      "image/png": "[encoded data removed]",
      "text/plain": [
       "<Figure size 432x288 with 1 Axes>"
      ]
     },
     "metadata": {
      "image/png": {
       "height": 273,
       "width": 424
      }
     },
     "output_type": "display_data"
    }
   ],
   "source": [
    "# Call function 'count_rows_missing()'\n",
    "utils.count_rows_missing(data=data, city='Boston', data_name='calendar')"
   ]
  },
  {
   "cell_type": "code",
   "execution_count": null,
   "metadata": {},
   "outputs": [
    {
     "name": "stdout",
     "output_type": "stream",
     "text": [
      "Count of rows per number of missing features in calendar.csv\n",
      "\n",
      "Seattle:\n",
      " 0 of  4 missing: 934,542 rows\n",
      " 1 of  4 missing: 459,028 rows\n"
     ]
    },
    {
     "data": {
      "image/png": "[encoded data removed]",
      "text/plain": [
       "<Figure size 432x288 with 1 Axes>"
      ]
     },
     "metadata": {
      "image/png": {
       "height": 273,
       "width": 424
      }
     },
     "output_type": "display_data"
    }
   ],
   "source": [
    "# Call function 'count_rows_missing()'\n",
    "utils.count_rows_missing(data=data, city='Seattle', data_name='calendar')"
   ]
  },
  {
   "cell_type": "markdown",
   "metadata": {},
   "source": [
    "The figures above are consistent with the analysis in the previous section. Many rows have a missing value in the `price` column, which is associated with a listing being unavailable. So it seems that we don't have any problematic rows.\n",
    "\n",
    "#### Rows in `listings.csv`"
   ]
  },
  {
   "cell_type": "code",
   "execution_count": null,
   "metadata": {},
   "outputs": [
    {
     "name": "stdout",
     "output_type": "stream",
     "text": [
      "Count of rows per number of missing features in listings.csv\n",
      "\n",
      "Seattle:\n",
      " 1 of 92 missing:   8 rows\n",
      " 2 of 92 missing: 302 rows\n",
      " 3 of 92 missing: 404 rows\n",
      " 4 of 92 missing: 464 rows\n",
      " 5 of 92 missing: 564 rows\n",
      " 6 of 92 missing: 400 rows\n",
      " 7 of 92 missing: 312 rows\n",
      " 8 of 92 missing: 268 rows\n",
      " 9 of 92 missing: 168 rows\n",
      "10 of 92 missing: 130 rows\n",
      "11 of 92 missing:  77 rows\n",
      "12 of 92 missing:  50 rows\n",
      "13 of 92 missing:  56 rows\n",
      "14 of 92 missing:  41 rows\n",
      "15 of 92 missing:  59 rows\n",
      "16 of 92 missing:  76 rows\n",
      "17 of 92 missing:  59 rows\n",
      "18 of 92 missing:  77 rows\n",
      "19 of 92 missing:  58 rows\n",
      "20 of 92 missing:  53 rows\n",
      "21 of 92 missing:  58 rows\n",
      "22 of 92 missing:  38 rows\n",
      "23 of 92 missing:  34 rows\n",
      "24 of 92 missing:  38 rows\n",
      "25 of 92 missing:  10 rows\n",
      "26 of 92 missing:   8 rows\n",
      "27 of 92 missing:   3 rows\n",
      "29 of 92 missing:   2 rows\n",
      "33 of 92 missing:   1 rows\n"
     ]
    },
    {
     "data": {
      "image/png": "[encoded data removed]",
      "text/plain": [
       "<Figure size 792x360 with 1 Axes>"
      ]
     },
     "metadata": {
      "image/png": {
       "height": 327,
       "width": 678
      }
     },
     "output_type": "display_data"
    }
   ],
   "source": [
    "# Call function 'count_rows_missing()'\n",
    "utils.count_rows_missing(data=data, city='Seattle', data_name='listings')"
   ]
  },
  {
   "cell_type": "markdown",
   "metadata": {},
   "source": [
    "The charts above show that the datasets don't seem to have a systematic pattern of groups of rows having unusual numbers of missing features.  \n",
    "\n",
    "#### Rows in `reviews.csv`"
   ]
  },
  {
   "cell_type": "code",
   "execution_count": null,
   "metadata": {},
   "outputs": [
    {
     "name": "stdout",
     "output_type": "stream",
     "text": [
      "Count of rows per number of missing features in reviews.csv\n",
      "\n",
      "Boston:\n",
      " 0 of  6 missing: 68,222 rows\n",
      " 1 of  6 missing:  53 rows\n"
     ]
    },
    {
     "data": {
      "image/png": "[encoded data removed]",
      "text/plain": [
       "<Figure size 432x288 with 1 Axes>"
      ]
     },
     "metadata": {
      "image/png": {
       "height": 273,
       "width": 417
      }
     },
     "output_type": "display_data"
    }
   ],
   "source": [
    "# Call function 'count_rows_missing()'\n",
    "utils.count_rows_missing(data=data, city='Boston', data_name='reviews')"
   ]
  },
  {
   "cell_type": "code",
   "execution_count": null,
   "metadata": {},
   "outputs": [
    {
     "name": "stdout",
     "output_type": "stream",
     "text": [
      "Count of rows per number of missing features in reviews.csv\n",
      "\n",
      "Seattle:\n",
      " 0 of  6 missing: 84,831 rows\n",
      " 1 of  6 missing:  18 rows\n"
     ]
    },
    {
     "data": {
      "image/png": "[encoded data removed]",
      "text/plain": [
       "<Figure size 432x288 with 1 Axes>"
      ]
     },
     "metadata": {
      "image/png": {
       "height": 273,
       "width": 417
      }
     },
     "output_type": "display_data"
    }
   ],
   "source": [
    "# Call function 'count_rows_missing()'\n",
    "utils.count_rows_missing(data=data, city='Seattle', data_name='reviews')"
   ]
  },
  {
   "cell_type": "markdown",
   "metadata": {},
   "source": [
    "The charts above show that the `reviews.csv` datasets have no rows with more than 1 (out of 6) missing features.\n",
    "\n",
    "Based on the assessment above I conclude that there is no need to drop any rows for the upcoming analyses. "
   ]
  },
  {
   "cell_type": "markdown",
   "metadata": {},
   "source": [
    "---\n",
    "## Preparing data for analyses \n",
    "\n",
    "In order to assess which features require re-encoding, transformations, scaling, etc., we first  need to understand the datatypes in the DataFrames as well as some descriptive statistics.\n",
    "\n",
    "The utility function `describe_columns()`  provides a high-level view of the properties of the data, excluding missing values. The function returns a data frame including the output of Pandas native `describe()` method, plus the data type by columns and some additional descriptive statistics; namely, the 0.90 and 0.99 quantiles. \n",
    "\n",
    "### Re-encode features in `calendar`"
   ]
  },
  {
   "cell_type": "code",
   "execution_count": null,
   "metadata": {},
   "outputs": [
    {
     "data": {
      "text/html": [
       "<div>\n",
       "<style scoped>\n",
       "    .dataframe tbody tr th:only-of-type {\n",
       "        vertical-align: middle;\n",
       "    }\n",
       "\n",
       "    .dataframe tbody tr th {\n",
       "        vertical-align: top;\n",
       "    }\n",
       "\n",
       "    .dataframe thead th {\n",
       "        text-align: right;\n",
       "    }\n",
       "</style>\n",
       "<table border=\"1\" class=\"dataframe\">\n",
       "  <thead>\n",
       "    <tr style=\"text-align: right;\">\n",
       "      <th></th>\n",
       "      <th>listing_id</th>\n",
       "      <th>date</th>\n",
       "      <th>available</th>\n",
       "      <th>price</th>\n",
       "    </tr>\n",
       "  </thead>\n",
       "  <tbody>\n",
       "    <tr>\n",
       "      <th>dtype</th>\n",
       "      <td>int64</td>\n",
       "      <td>object</td>\n",
       "      <td>object</td>\n",
       "      <td>object</td>\n",
       "    </tr>\n",
       "    <tr>\n",
       "      <th>count</th>\n",
       "      <td>1.30889e+06</td>\n",
       "      <td>1308890</td>\n",
       "      <td>1308890</td>\n",
       "      <td>643037</td>\n",
       "    </tr>\n",
       "    <tr>\n",
       "      <th>unique</th>\n",
       "      <td>NaN</td>\n",
       "      <td>365</td>\n",
       "      <td>2</td>\n",
       "      <td>1246</td>\n",
       "    </tr>\n",
       "    <tr>\n",
       "      <th>top</th>\n",
       "      <td>NaN</td>\n",
       "      <td>2016-10-28</td>\n",
       "      <td>f</td>\n",
       "      <td>$150.00</td>\n",
       "    </tr>\n",
       "    <tr>\n",
       "      <th>freq</th>\n",
       "      <td>NaN</td>\n",
       "      <td>3586</td>\n",
       "      <td>665853</td>\n",
       "      <td>20752</td>\n",
       "    </tr>\n",
       "    <tr>\n",
       "      <th>mean</th>\n",
       "      <td>8.44212e+06</td>\n",
       "      <td>NaN</td>\n",
       "      <td>NaN</td>\n",
       "      <td>NaN</td>\n",
       "    </tr>\n",
       "    <tr>\n",
       "      <th>std</th>\n",
       "      <td>4.50015e+06</td>\n",
       "      <td>NaN</td>\n",
       "      <td>NaN</td>\n",
       "      <td>NaN</td>\n",
       "    </tr>\n",
       "    <tr>\n",
       "      <th>min</th>\n",
       "      <td>3353</td>\n",
       "      <td>NaN</td>\n",
       "      <td>NaN</td>\n",
       "      <td>NaN</td>\n",
       "    </tr>\n",
       "    <tr>\n",
       "      <th>25%</th>\n",
       "      <td>4.67932e+06</td>\n",
       "      <td>NaN</td>\n",
       "      <td>NaN</td>\n",
       "      <td>NaN</td>\n",
       "    </tr>\n",
       "    <tr>\n",
       "      <th>50%</th>\n",
       "      <td>8.57871e+06</td>\n",
       "      <td>NaN</td>\n",
       "      <td>NaN</td>\n",
       "      <td>NaN</td>\n",
       "    </tr>\n",
       "    <tr>\n",
       "      <th>75%</th>\n",
       "      <td>1.2796e+07</td>\n",
       "      <td>NaN</td>\n",
       "      <td>NaN</td>\n",
       "      <td>NaN</td>\n",
       "    </tr>\n",
       "    <tr>\n",
       "      <th>90%</th>\n",
       "      <td>1.4197e+07</td>\n",
       "      <td>NaN</td>\n",
       "      <td>NaN</td>\n",
       "      <td>NaN</td>\n",
       "    </tr>\n",
       "    <tr>\n",
       "      <th>99%</th>\n",
       "      <td>1.48706e+07</td>\n",
       "      <td>NaN</td>\n",
       "      <td>NaN</td>\n",
       "      <td>NaN</td>\n",
       "    </tr>\n",
       "    <tr>\n",
       "      <th>max</th>\n",
       "      <td>1.49335e+07</td>\n",
       "      <td>NaN</td>\n",
       "      <td>NaN</td>\n",
       "      <td>NaN</td>\n",
       "    </tr>\n",
       "  </tbody>\n",
       "</table>\n",
       "</div>"
      ],
      "text/plain": [
       "         listing_id        date available    price\n",
       "dtype         int64      object    object   object\n",
       "count   1.30889e+06     1308890   1308890   643037\n",
       "unique          NaN         365         2     1246\n",
       "top             NaN  2016-10-28         f  $150.00\n",
       "freq            NaN        3586    665853    20752\n",
       "mean    8.44212e+06         NaN       NaN      NaN\n",
       "std     4.50015e+06         NaN       NaN      NaN\n",
       "min            3353         NaN       NaN      NaN\n",
       "25%     4.67932e+06         NaN       NaN      NaN\n",
       "50%     8.57871e+06         NaN       NaN      NaN\n",
       "75%      1.2796e+07         NaN       NaN      NaN\n",
       "90%      1.4197e+07         NaN       NaN      NaN\n",
       "99%     1.48706e+07         NaN       NaN      NaN\n",
       "max     1.49335e+07         NaN       NaN      NaN"
      ]
     },
     "metadata": {},
     "output_type": "display_data"
    }
   ],
   "source": [
    "# Call function 'describe_columns()'\n",
    "utils.describe_columns(data=data, city='Boston', data_name='calendar')"
   ]
  },
  {
   "cell_type": "markdown",
   "metadata": {},
   "source": [
    "#### `calendar[\"price\"]` — from string to numerical"
   ]
  },
  {
   "cell_type": "markdown",
   "metadata": {},
   "source": [
    "The data in feature `price` seems to be recorded as strings including the dollar sign ($). Since price is naturally a numerical variable, I re-encode the feature accordingly. "
   ]
  },
  {
   "cell_type": "code",
   "execution_count": null,
   "metadata": {
    "scrolled": true
   },
   "outputs": [
    {
     "name": "stdout",
     "output_type": "stream",
     "text": [
      "Sample of \"price\" data in Boston:\n",
      "['$119.00' '$52.00' '$90.00' '$140.00' '$80.00' '$155.00' '$229.00'\n",
      " '$60.00' '$525.00' '$65.00'] \n",
      "\n",
      "Sample of \"price\" data in Seattle:\n",
      "['$119.00' '$190.00' '$149.00' '$159.00' '$139.00' '$52.00' '$59.00'\n",
      " '$80.00' '$45.00' '$250.00'] \n",
      "\n"
     ]
    }
   ],
   "source": [
    "# Sample some values in the 'price' feature\n",
    "for city in data.keys():\n",
    "    print('Sample of \"price\" data in {}:'.format(city))\n",
    "    print(data[city]['calendar']['price'].dropna().sample(n=10).values, '\\n')"
   ]
  },
  {
   "cell_type": "code",
   "execution_count": null,
   "metadata": {},
   "outputs": [
    {
     "name": "stdout",
     "output_type": "stream",
     "text": [
      "Test function with string $7,163.00.\n",
      "Output: 7163.0\n"
     ]
    }
   ],
   "source": [
    "# Function: transform price column\n",
    "def price_re(price_str):\n",
    "    \"\"\"Re-encode string of a dollar amount to float.\n",
    "    \n",
    "    Args: \n",
    "        price_str (str): Price value with dollar symbol and comma.\n",
    "    \n",
    "    Returns: \n",
    "        price (np.float32)\n",
    "        \n",
    "    \"\"\"\n",
    "    if isinstance(price_str, str):\n",
    "        return np.float32(price_str[1:].replace(',', ''))\n",
    "    else:\n",
    "        return np.nan\n",
    "\n",
    "# Test function\n",
    "temp = '$7,163.00'\n",
    "print('Test function with string {}.\\nOutput: {}'.format(temp, price_re(temp)))"
   ]
  },
  {
   "cell_type": "code",
   "execution_count": null,
   "metadata": {},
   "outputs": [],
   "source": [
    "# Re-encode 'price'\n",
    "original_feat = 'price'\n",
    "eng_feat = 'price_re'\n",
    "# Loop over cities and apply 'price_re()'\n",
    "for city in data.keys():\n",
    "    data[city]['calendar'][eng_feat] = data[city]['calendar'][original_feat]\\\n",
    "        .apply(price_re)"
   ]
  },
  {
   "cell_type": "markdown",
   "metadata": {},
   "source": [
    "#### `calendar[\"available\"]` — from string to binary numerical"
   ]
  },
  {
   "cell_type": "markdown",
   "metadata": {},
   "source": [
    "According to the table above, `available` is encoded as a string with two possible unique values."
   ]
  },
  {
   "cell_type": "code",
   "execution_count": null,
   "metadata": {},
   "outputs": [
    {
     "name": "stdout",
     "output_type": "stream",
     "text": [
      "Unique values of \"available\" in Boston:\n",
      "['f' 't'] \n",
      "\n",
      "Unique values of \"available\" in Seattle:\n",
      "['t' 'f'] \n",
      "\n"
     ]
    }
   ],
   "source": [
    "# Unique values of 'available'\n",
    "for city in data.keys():\n",
    "    print('Unique values of \"available\" in {}:'.format(city))\n",
    "    print(data[city]['calendar']['available'].dropna().unique(), '\\n')"
   ]
  },
  {
   "cell_type": "markdown",
   "metadata": {},
   "source": [
    "I re-encode `available` below into a binary, numerical variable."
   ]
  },
  {
   "cell_type": "code",
   "execution_count": null,
   "metadata": {},
   "outputs": [],
   "source": [
    "# Re-encode 'available'\n",
    "original_feat = 'available'\n",
    "eng_feat = 'available_re'\n",
    "# Loop over cities and transform variable\n",
    "for city in data.keys():\n",
    "    data[city]['calendar'][eng_feat] = data[city]['calendar'][original_feat]\\\n",
    "        .apply(lambda x: 1 if x == 't' else 0)"
   ]
  },
  {
   "cell_type": "markdown",
   "metadata": {},
   "source": [
    "#### `calendar[\"date\"]` — from string to Pandas timestamp"
   ]
  },
  {
   "cell_type": "code",
   "execution_count": null,
   "metadata": {},
   "outputs": [
    {
     "name": "stdout",
     "output_type": "stream",
     "text": [
      "Sample of \"date\" feature in Boston:\n",
      "['2017-08-02' '2017-01-29' '2017-08-22' '2016-12-14' '2017-01-19'\n",
      " '2016-10-14' '2016-12-28' '2016-09-27' '2017-05-20' '2017-07-24'] \n",
      "\n",
      "Sample of \"date\" feature in Seattle:\n",
      "['2016-03-23' '2016-08-16' '2016-05-30' '2016-07-19' '2016-12-11'\n",
      " '2016-01-18' '2016-05-01' '2016-03-19' '2016-09-20' '2016-09-05'] \n",
      "\n"
     ]
    }
   ],
   "source": [
    "# Sample some values in the 'date' feature\n",
    "for city in data.keys():\n",
    "    print('Sample of \"date\" feature in {}:'.format(city))\n",
    "    print(data[city]['calendar']['date'].dropna().sample(n=10).values, '\\n')"
   ]
  },
  {
   "cell_type": "markdown",
   "metadata": {},
   "source": [
    "Dates contained in the `date` feature are recorded as strings. Since dates in this context — panel data — are typically used as a special type of x-axis in visualizations, it is useful to re-encode `date` using Pandas time series/date functionality."
   ]
  },
  {
   "cell_type": "code",
   "execution_count": null,
   "metadata": {},
   "outputs": [],
   "source": [
    "# Re-encode 'date' into Pandas timestamp\n",
    "original_feat = 'date'\n",
    "eng_feat = 'date_re'\n",
    "# Loop over cities and transform variable\n",
    "for city in data.keys():\n",
    "    data[city]['calendar'][eng_feat] = data[city]['calendar'][original_feat]\\\n",
    "        .apply(lambda x: pd.Timestamp(x))"
   ]
  },
  {
   "cell_type": "markdown",
   "metadata": {},
   "source": [
    "#### Create other time-based features\n",
    "\n",
    "Below I used the newly re-encoded dates to create features that will be used in the upcoming analyses:\n",
    "1. `day_of_week`:  Monday = 0, Tuesday = 1, ..., Sunday = 6\n",
    "2. `day_of_year`:  1, 2, …, 365, 366 (i.e., from Jan-1 to Dec-31)\n",
    "3. `day_of_sample`:  0, 1, …, 364, 365 (i.e., from first day of sample to last day of sample by city)."
   ]
  },
  {
   "cell_type": "code",
   "execution_count": null,
   "metadata": {},
   "outputs": [],
   "source": [
    "# Loop over cities and create new columns\n",
    "for city in data.keys():\n",
    "    # Get dates column as basis for new time features\n",
    "    dates = data[city]['calendar']['date_re']\n",
    "    \n",
    "    # Create 'day_of_week':  Mon = 0, Tue = 1, ..., Sun = 6\n",
    "    data[city]['calendar']['day_of_week'] = dates.apply(lambda x: x.dayofweek)\n",
    "    \n",
    "    # Create 'day_of_year' : 1, 2, ..., 366\n",
    "    data[city]['calendar']['day_of_year'] = dates.apply(lambda x: x.dayofyear)\n",
    "    \n",
    "    # Create 'day_of_sample' : 0, 1, ..., 365\n",
    "    start_date = dates.min()\n",
    "    data[city]['calendar']['day_of_sample'] = (dates - start_date)\\\n",
    "        .apply(lambda x: x.days)"
   ]
  },
  {
   "cell_type": "code",
   "execution_count": null,
   "metadata": {},
   "outputs": [],
   "source": [
    "# Call function 'describe_columns()'\n",
    "utils.describe_columns(data=data, city='Boston', data_name='calendar')"
   ]
  },
  {
   "cell_type": "markdown",
   "metadata": {},
   "source": [
    "The expanded DataFrame `calendar`, as shown above, contains most data we need for the analysis, modeling, and visualizations below. \n",
    "\n",
    "### Re-encode features in `reviews`\n",
    "\n",
    "#### `reviews[\"date\"]` — from string to Pandas timestamp"
   ]
  },
  {
   "cell_type": "code",
   "execution_count": null,
   "metadata": {},
   "outputs": [],
   "source": [
    "# Re-encode 'date'\n",
    "original_feat = 'date'\n",
    "eng_feat = 'date_re'\n",
    "# Loop over cities and transform variable\n",
    "for city in data.keys():\n",
    "    data[city]['reviews'][eng_feat] = data[city]['reviews'][original_feat]\\\n",
    "        .apply(lambda x: pd.Timestamp(x))"
   ]
  },
  {
   "cell_type": "code",
   "execution_count": null,
   "metadata": {},
   "outputs": [],
   "source": [
    "# Call function 'describe_columns()'\n",
    "utils.describe_columns(data=data, city='Boston', data_name='reviews')"
   ]
  },
  {
   "cell_type": "markdown",
   "metadata": {},
   "source": [
    "### Add count of reviews to `calendar` datasets\n",
    "\n",
    "Before jumping into the analyses below, we need to determine whether the quantity of reviews for the listings in the `calendar` datasets is (1) a constant number or (2) a variable that changes across the time dimension of the panel data. \n",
    "\n",
    "Statistics concerning reviews per listing are recorded in two of the datasets: `listings` and `reviews`. In `listings`, reviews are recorded as a constant number per listing, since this dataset is cross-sectional (i.e., it doesn't incorporate a time dimension). In `reviews`, on the other hand, reviews are recorded across time; so I will look into the dates of last recorded review in the `reviews` datasets and I will compare these dates with the dates of first recorded prices in the `calendar` datasets. If these date overlap, then it is possible that we could have a measurement for guest reviews over time in the `calendar` dataset.\n",
    "\n",
    "#### Count of reviews in the `reviews` datasets"
   ]
  },
  {
   "cell_type": "code",
   "execution_count": null,
   "metadata": {},
   "outputs": [],
   "source": [
    "# Print the date of last review in 'reviews'\n",
    "print('DATE OF LAST RECORDED REVIEW \\n') \n",
    "for city in data.keys():\n",
    "    print('{:7}:  {}'.format(city, data[city]['reviews']['date_re'].max()))"
   ]
  },
  {
   "cell_type": "code",
   "execution_count": null,
   "metadata": {},
   "outputs": [],
   "source": [
    "# Print the date of first listing in 'calendar'\n",
    "print('DATE OF FIRST RECORDED LISTING \\n') \n",
    "for city in data.keys():\n",
    "    print('{:7}:  {}'.format(city, data[city]['calendar']['date_re'].min()))"
   ]
  },
  {
   "cell_type": "markdown",
   "metadata": {},
   "source": [
    "Since there is no temporal overlap between the datasets `reviews` and `calendar`, the quantity of reviews per listing is a constant in the `calendar` datasets."
   ]
  },
  {
   "cell_type": "code",
   "execution_count": null,
   "metadata": {},
   "outputs": [],
   "source": [
    "# Instantiate dictionaries\n",
    "reviews_count = dict()\n",
    "reviews_totals = dict()\n",
    "\n",
    "for city in data.keys():\n",
    "    # Create a cumulative sum of reviews received by listing \n",
    "    reviews_count[city] = data[city]['reviews']\\\n",
    "        .groupby(by=['listing_id','date_re'])['id']\\\n",
    "        .count().groupby(level=[0]).cumsum()\n",
    "    \n",
    "    # Create vectors of total reviews by listing\n",
    "    reviews_totals[city] = reviews_count[city].groupby(level=0).max()"
   ]
  },
  {
   "cell_type": "markdown",
   "metadata": {},
   "source": [
    "Below I use the data in the `reviews` datasets to add the column 'total_reviews' to the `calendar` datasets."
   ]
  },
  {
   "cell_type": "code",
   "execution_count": null,
   "metadata": {},
   "outputs": [],
   "source": [
    "# Add column for 'total_reviews' to the calendar datasets\n",
    "eng_feat = 'total_reviews'\n",
    "# Loop over cities and create 'total_reviews'\n",
    "for city in data.keys():\n",
    "    data[city]['calendar'][eng_feat] = data[city]['calendar']['listing_id']\\\n",
    "        .apply(lambda x: reviews_totals[city].loc[x] \n",
    "               if x in reviews_count[city].index else 0)    "
   ]
  },
  {
   "cell_type": "markdown",
   "metadata": {},
   "source": [
    "#### Count of reviews in the `listings` datasets\n",
    "\n",
    "As noted above,the `listings` datasets also include data concerning reviews per listing. \n",
    "\n",
    "First I will investigate whether these features have issues with missing data."
   ]
  },
  {
   "cell_type": "code",
   "execution_count": null,
   "metadata": {},
   "outputs": [],
   "source": [
    "# Print title\n",
    "print('Percentage of missing values in columns')\n",
    "print('associated with reviews.')\n",
    "\n",
    "# Loop over cities\n",
    "for city in data.keys():\n",
    "    # Calculate percent missing values per column\n",
    "    df = data[city]['listings'].filter(like='review', axis=1)\n",
    "    pc = df.isnull().sum() / df.shape[0] * 100\n",
    "    # Sort, format, and print series of percentages\n",
    "    sorted_pc = pc.sort_values(ascending=False).apply(\n",
    "                    lambda x: '{:2.1f}%'.format(x))\n",
    "    print('\\n{:^25}'.format('— ' + city + ' —'))\n",
    "    print(sorted_pc)"
   ]
  },
  {
   "cell_type": "markdown",
   "metadata": {},
   "source": [
    "Most of the columns with data about reviews have around 20% missing values, with the single exception of total reviews (`number_of_reviews`). I will keep this column and add the data to the `calendar` datasets."
   ]
  },
  {
   "cell_type": "code",
   "execution_count": null,
   "metadata": {},
   "outputs": [],
   "source": [
    "# Add column for 'number_of_reviews' to the calendar datasets\n",
    "for city in cities:\n",
    "    data[city]['calendar'] = data[city]['calendar'].merge(\n",
    "        data[city]['listings'][['number_of_reviews']], how='left', \n",
    "        left_on='listing_id', right_on=data[city]['listings']['id'])"
   ]
  },
  {
   "cell_type": "markdown",
   "metadata": {},
   "source": [
    "#### `total_reviews` vs. `number_of_reviews`\n",
    "\n",
    "The data in `total_reviews` comes from the `reviews` datasets while `number_of_reviews` comes from the `listings` datasets; here I assess whether these two sources provide the same information:"
   ]
  },
  {
   "cell_type": "code",
   "execution_count": null,
   "metadata": {},
   "outputs": [],
   "source": [
    "temp = data[city]['calendar']['number_of_reviews'].equals(\n",
    "           data[city]['calendar']['total_reviews'])\n",
    "\n",
    "print(\"Does 'number_of_reviews' and 'total_reviews' contain the same data?\") \n",
    "print(\"- Answer: {}\".format(temp))"
   ]
  },
  {
   "cell_type": "markdown",
   "metadata": {},
   "source": [
    "The test above confirms that both columns contain the same data measuring the review count per listing."
   ]
  },
  {
   "cell_type": "markdown",
   "metadata": {},
   "source": [
    "---\n",
    "## Business Question 1:\n",
    "\n",
    "> **How does the average availability of homes vary over time?**\n",
    "\n",
    "I will address this question from two perspectives:\n",
    "1. What is the empirical distribution of Airbnb per-listing-availability in year of sample?\n",
    "2. What is the temporal and seasonal behavior of average availability?\n",
    "\n",
    "### Home availability in a year of sample\n",
    "\n",
    "We first would like to know whether all listings are observed the same number of times in the `calendar` DataFrames. \n",
    "\n",
    "The utility function `unique_listing_records()` takes in the `calendar` DataFrames, counts the number of observations per `listing_id`, and tabulates the unique values for total observations and the count of listings associated with these unique values. "
   ]
  },
  {
   "cell_type": "code",
   "execution_count": null,
   "metadata": {},
   "outputs": [],
   "source": [
    "# Call function 'unique_listing_records()'\n",
    "utils.unique_listing_records(data=data)"
   ]
  },
  {
   "cell_type": "markdown",
   "metadata": {},
   "source": [
    "There is one listing in Boston for which we have 730 observations. This is a case of duplicate values so we need to drop duplicates from `calendar` and re-run the counts."
   ]
  },
  {
   "cell_type": "code",
   "execution_count": null,
   "metadata": {},
   "outputs": [],
   "source": [
    "# Loop over cities and drop duplicates in 'calendar'\n",
    "for city in data.keys():\n",
    "    data[city]['calendar'].drop_duplicates(keep='first', inplace=True)\n",
    "\n",
    "# Call function 'unique_listing_records()'\n",
    "utils.unique_listing_records(data=data)"
   ]
  },
  {
   "cell_type": "markdown",
   "metadata": {},
   "source": [
    "Now, let’s use the utility function `countplot_availability()`, which takes the `calendar` DataFrame and performs three tasks:\n",
    "1. Builds a histogram of the distribution of total days in the year-of-sample when listings were recorded as available. \n",
    "2. Prints the total number of listings in the dataset for the given city.\n",
    "3. Prints the start and final dates of the year-of-sample for the given city.\n",
    "\n",
    "#### Home availability in Boston"
   ]
  },
  {
   "cell_type": "code",
   "execution_count": null,
   "metadata": {},
   "outputs": [],
   "source": [
    "# Call function 'countplot_availability()'\n",
    "utils.countplot_availability(data=data, city='Boston')"
   ]
  },
  {
   "cell_type": "markdown",
   "metadata": {},
   "source": [
    "#### Home availability in Seattle"
   ]
  },
  {
   "cell_type": "code",
   "execution_count": null,
   "metadata": {
    "scrolled": true
   },
   "outputs": [],
   "source": [
    "# Call function 'countplot_availability()'\n",
    "utils.countplot_availability(data=data, city='Seattle')"
   ]
  },
  {
   "cell_type": "code",
   "execution_count": null,
   "metadata": {},
   "outputs": [],
   "source": [
    "cut = 300\n",
    "print('Percent of homes with at least {} available nights in a year\\n'\\\n",
    "      .format(cut))\n",
    "\n",
    "for city in cities:\n",
    "    nights_per_home = data[city]['calendar'].groupby(\n",
    "        by=['listing_id'])['available_re'].sum()  \n",
    "    print('{:8}: {:.0f}%'.format(city, 100*np.mean(nights_per_home >= cut)))"
   ]
  },
  {
   "cell_type": "markdown",
   "metadata": {},
   "source": [
    "#### Understanding average home availability in a year\n",
    "\n",
    "Excluding both tails — near 0 days and 365 days of availability — the distribution of availability per listing in a year is similar in Boston and Seattle; that is, below approximately 300 days the distribution is fairly uniform, and it seems to increase non-linearly after that. \n",
    "\n",
    "Despite the similarities in the middle of the distribution, there is significant difference between the cities if we look at the extremes. For Boston, the clearly dominant mode of the distribution is near 0 days of availability; whereas for Seattle, the dominant mode is near 365 days.\n",
    "\n",
    "My best guess is that the difference in the tails is a product of different approaches of sampling the Airbnb data — listings and dates — between the two cities (i.e., selection bias). In other words, I have a difficult time coming up with a hypothesis which would explain why these differences persist in the underlying population of Airbnb listings in these two cities. \n",
    "\n",
    "A plausible scenario consistent with selection bias is that all the Seattle listings were active on Airbnb during the year of sample (such that hosts were actually managing the availability of their homes on the platform), while a large plurality of Boston listings only became active hosts in the platform after the end of the year of sample for Boston. "
   ]
  },
  {
   "cell_type": "markdown",
   "metadata": {
    "scrolled": true
   },
   "source": [
    "### How does the average availability vary over time? \n",
    "\n",
    "The histograms above provide a snapshot of the availability per listing in their respective city and years of sample. But in order to understand the dynamic, temporal behavior of availability in a city we need to aggregate the cross-sectional snapshots of the data and analyze these statistics across the time dimension.\n",
    "\n",
    "The utility function `time_series_means()` is a flexible function intended to visualize the time-series dimension of the `calendar` DataFrames; for either the proportion of available listings or the average price.\n",
    "\n",
    "Besides the datasets themselves, the function takes three additional keyword arguments:\n",
    "1. `variable`: Choose between availability or price data.\n",
    "2. `city`: Boston, Seattle, or both.\n",
    "3. `time_ax`: Choose between three different time axes:\n",
    "\t1. `datetime`:  calendar date; i.e., from 2016-01-04 to 2017-01-02\n",
    "\t2. `day_of_year`:  from Jan 1st to Dec 31st\n",
    "\t3. `day_of_sample`:  from 0 to 365\n",
    "    \n",
    "#### Availability by date — `availability` vs `datetime`\n",
    "\n",
    "The time-series figure below plots the percentage of listings marked as available (per city) as function of calendar date. \n",
    "\n",
    "The data for Boston covers from 2016-09-06 to 2017-09-05 and the data for Seattle covers from 2016-01-04 to 2017-01-02."
   ]
  },
  {
   "cell_type": "code",
   "execution_count": null,
   "metadata": {
    "scrolled": true
   },
   "outputs": [],
   "source": [
    "# Call function 'time_series_means()'\n",
    "utils.time_series_means(data, variable='availability', city='both', \n",
    "                        time_ax='datetime')"
   ]
  },
  {
   "cell_type": "markdown",
   "metadata": {},
   "source": [
    "Both cities show a similar \"ramp up\" behavior in average availability in the first three months of each of their corresponding samples. After that, average availability is mostly stable with some small variation. \n",
    "\n",
    "Even though the trends look similar across the two cities, the trends settle at very different magnitudes of average availability; with Seattle's being significantly higher. Consistently with what I noted in the previous section, my best guess is that this difference in average availability is a product of different approaches of sampling the Airbnb data — listings and dates — between the two cities (i.e., selection bias). This is as opposed to Seattle and Boston inherently having such different levels of average availability on Airbnb in the long run. \n",
    "\n",
    "Finally, the ramp up behavior in availability also looks like an issue of sample selection and not a characteristic of the 'real-world' behavior of Airbnb hosts. I would guess that the datasets were backfilled with calendar observations of listings before these were actually on Airbnb; that is, with the objective of having tidy panel data, with the same dates dimension recorded for all listings. As these yet-to-become Airbnb listings would be recorded as unavailable, this approach would produce an artificially low average availability that would ramp up with time. \n",
    "\n",
    "#### Availability by day-of-year — `availability` vs  `day_of_year`\n",
    "\n",
    "For the second case, I plot the percentage of listings marked as available (per city) as function of day of year; from Jan-1 to Dec 31.\n",
    "\n",
    "This approach allows for a better comparative analysis of the seasonal behavior of availability in the two cities. "
   ]
  },
  {
   "cell_type": "code",
   "execution_count": null,
   "metadata": {},
   "outputs": [],
   "source": [
    "# Call function 'time_series_means()'\n",
    "utils.time_series_means(data, variable='availability', city='both', \n",
    "                        time_ax='day_of_year')"
   ]
  },
  {
   "cell_type": "markdown",
   "metadata": {},
   "source": [
    "Average availability does not seem to show a clear seasonal behavior in these datasets. It is plausible that some of the small dips in availability are associated with high-demand times-of-year, such as Spring Break and the start of Summer.\n",
    "\n",
    "On the other hand, I'd argue that these plots show non-seasonal and odd behavior of average availability are consistent with my explanation in previous sections regarding the low average availabilities being an artifice of sample selection and dataset construction.\n",
    "\n",
    "#### Availability by day-of-sample — `availability` vs `day_of_sample`\n",
    "\n",
    "The final time dimension I explore is `day_of_sample`; from 0 to 365.\n",
    "\n",
    "This approach allows for a comparative analysis of the trends in average availability as a function of the chronological dimension of the sample."
   ]
  },
  {
   "cell_type": "code",
   "execution_count": null,
   "metadata": {},
   "outputs": [],
   "source": [
    "# Call function 'time_series_means()'\n",
    "utils.time_series_means(data, variable='availability', city='both', \n",
    "                        time_ax='day_of_sample')"
   ]
  },
  {
   "cell_type": "markdown",
   "metadata": {},
   "source": [
    "As we can see, the trends of average availability in the two cities are almost identical. Since these two samples correspond to two different spans of calendar dates, I can't think of a good reason why the trends would match in this way, unless the behavior is entirely a product of sample and panel-dataset construction."
   ]
  },
  {
   "cell_type": "markdown",
   "metadata": {},
   "source": [
    "---\n",
    "## Business Question 2:\n",
    "\n",
    "> **What are the seasonal and weekly patterns of average nightly rates?**\n",
    "\n",
    "As it was the case with Question 1, this section also makes use of the temporal dimension of the panel data, but in this case we will look into the temporal behavior of average prices in the two cities. \n",
    "\n",
    "### Seasonal behavior of average rates\n",
    "The following three figures show plots of the average prices per city, using the same three time axes used in the last section:\n",
    "- `datetime`\n",
    "- `day_of_sample`\n",
    "- `day_of_year`\n",
    "\n",
    "Since we are exploring the question of seasonal behavior, the last figure is the most important. It allows a clear comparative analysis of average prices as function of time of year. However, the first two figure can also provide insights about events that are unique or somehow not systematically related to time of year.\n",
    "\n",
    "#### Average nightly rate by date — `price` vs `datetime`"
   ]
  },
  {
   "cell_type": "code",
   "execution_count": null,
   "metadata": {},
   "outputs": [],
   "source": [
    "# Call function 'time_series_means()'\n",
    "utils.time_series_means(data, variable='price', city='both', \n",
    "                        time_ax='datetime')"
   ]
  },
  {
   "cell_type": "markdown",
   "metadata": {},
   "source": [
    "The plots indicate that average price per city is a pretty noisy statistic, showing significant within-week variation. Since the Seattle time-series covers a calendar year, it's easier to identify a clear seasonal pattern of higher prices in the Summer. This should become even clearer when we look at prices by time of year.\n",
    "\n",
    "#### Average nightly rate by day-of-sample — `price` vs `day_of_sample`"
   ]
  },
  {
   "cell_type": "code",
   "execution_count": null,
   "metadata": {
    "scrolled": false
   },
   "outputs": [],
   "source": [
    "# Call function 'time_series_means()'\n",
    "utils.time_series_means(data, variable='price', city='both', \n",
    "                        time_ax='day_of_sample')"
   ]
  },
  {
   "cell_type": "markdown",
   "metadata": {},
   "source": [
    "For Boston, average prices in the first third of the year of sample are higher and noisier than any other segment of the plots for both cities. Since `price` only takes values for dates on which a listing is available, the highly variable behavior of prices in Boston is almost surely a product of a smaller sample of available listings and prices, which we observed in Section 5. \n",
    "\n",
    "Following the noisier segment in the first 120 days of sample, the Boston average price behaves seems to follow the same weekly cycle as Seattle's average price. That said, Boston prices remain higher than Seattle's for the entire year.\n",
    "\n",
    "Finally, there is a highly noticeable spike in the average price in Boston that does not seem to be a product of data issues. In other words, there is probably a \"real-world\" reason for this spike in price. I investigate this issue below. \n",
    "\n",
    "#### Average nightly rate by day-of-year — `price` vs `day_of_year`"
   ]
  },
  {
   "cell_type": "code",
   "execution_count": null,
   "metadata": {},
   "outputs": [],
   "source": [
    "# Call function 'time_series_means()'\n",
    "utils.time_series_means(data, variable='price', city='both', \n",
    "                        time_ax='day_of_year')"
   ]
  },
  {
   "cell_type": "markdown",
   "metadata": {},
   "source": [
    "The plots of average prices by day-of-year provide the following plausible insights:\n",
    "1. Average prices seem to be increasing independently of season. Thus, I would guess that average prices in this two cities were increasing year over year. \n",
    "2. The seasonal behavior of prices is analogous in Boston and Seattle, with average price peaking in the early Summer months and bottoming out in late Winter. \n",
    "3. Considering this figure together with the previous two, we can safely guess that the spike in the Boston average price that happens in September is not a product of real conditions in the city. The high and noisy prices are due to a smaller sample of available listings. \n",
    "4. The highly noticeable spike in the Boston average price that happens in April of 2017 is most likely a product of some real event that affected the market conditions in the city.\n",
    "\n",
    "#### Rate spike in Boston — April of 2017\n",
    "\n",
    "In this section we will look into the spike in the Boston average price that happens in April of 2017. \n",
    "\n",
    "The following cells build a plot of average price in Boston for the relevant time window. "
   ]
  },
  {
   "cell_type": "code",
   "execution_count": null,
   "metadata": {},
   "outputs": [],
   "source": [
    "# Select Boston calendar data for April\n",
    "bool_idx = data['Boston']['calendar']['date_re'].apply(lambda x: x.month) == 4\n",
    "\n",
    "# Calculate mean prices in April\n",
    "prices_april = data['Boston']['calendar'][bool_idx].groupby(\n",
    "    by=['date_re'])['price_re'].mean()"
   ]
  },
  {
   "cell_type": "code",
   "execution_count": null,
   "metadata": {},
   "outputs": [],
   "source": [
    "# Create figure and subplot  \n",
    "fig, ax = plt.subplots(figsize=(10, 5))\n",
    "# Plot mean prices in April\n",
    "sns.lineplot(data = prices_april, color='salmon')\n",
    "\n",
    "# Create locator and formatter for x-axis ticks and labels \n",
    "rule = plotdates.rrulewrapper(plotdates.WEEKLY, byweekday=0)\n",
    "locator = plotdates.RRuleLocator(rule)\n",
    "formatter = plotdates.DateFormatter('%Y-%m-%d')\n",
    "\n",
    "# Set axes properties\n",
    "ax.xaxis.set_major_locator(locator)\n",
    "ax.xaxis.set_major_formatter(formatter)\n",
    "ax.yaxis.set_major_formatter(ticker.FormatStrFormatter(\"$%d\")) \n",
    "ax.set_ylabel('Price', fontsize=14)  \n",
    "\n",
    "# Display figure\n",
    "plt.show()"
   ]
  },
  {
   "cell_type": "markdown",
   "metadata": {},
   "source": [
    "The plot shows that the spike happened approximately from 2017-04-10 to 2017-04-18. \n",
    "\n",
    "Since the **2017 Boston Marathon** took place on Monday, April 17, I think it is safe to say that this was the event that caused the spike in demand and average prices for Airbnb's Boston listings.\n",
    "\n",
    "### Average nightly rates by day-of-week\n",
    "\n",
    "In the multiple figures we have already seen, it is clear that average prices in both cities follow some sort of weekly cycle.\n",
    "\n",
    "The following cell calculates and tabulates the sample average prices by day-of-week for Boston and Seattle. "
   ]
  },
  {
   "cell_type": "code",
   "execution_count": null,
   "metadata": {},
   "outputs": [],
   "source": [
    "# Print title\n",
    "print('— Average prices grouped by *day of week* —')\n",
    "# Translate day_of_week integers to words\n",
    "days = pd.Series({0:'Mon', 1:'Tue', 2:'Wed', 3:'Thu', 4:'Fri', \n",
    "                  5:'Sat', 6:'Sun'})\n",
    "\n",
    "# Loop over cities\n",
    "for city in data.keys():\n",
    "    # Calculate mean prices by day_of_week\n",
    "    prices = data[city]['calendar'].groupby(\n",
    "        by=['day_of_week'])['price_re'].mean()\n",
    "    # Format and display prices\n",
    "    df = pd.DataFrame()\n",
    "    df['day_of_week'] = days\n",
    "    df['price'] = prices.apply(lambda x: '${:.2f}'.format(round(x, 2)))\n",
    "    print('\\n{}:'.format(city))\n",
    "    print(df)"
   ]
  },
  {
   "cell_type": "markdown",
   "metadata": {},
   "source": [
    "Based on these simple averages, the association between average price and day-of-week seems to be analogous across the two cities:\n",
    "1. The lowest prices are posted for Monday, Tuesday, and Wednesday.\n",
    "2. Slightly higher prices are posted for Thursdays and Sundays.\n",
    "3. Weekly prices increase and peak for the weekend evenings, Fridays and Saturdays.\n",
    "\n",
    "Below I create a new feature for the `calendar` dataset. The binary, numeric feature `fri_sat` corresponds to Friday and Saturday observations."
   ]
  },
  {
   "cell_type": "code",
   "execution_count": null,
   "metadata": {},
   "outputs": [],
   "source": [
    "# Create 'fri_sat'\n",
    "original_feat = 'day_of_week'\n",
    "eng_feat = 'fri_sat'\n",
    "# Loop over cities and create new variable\n",
    "for city in data.keys():\n",
    "    data[city]['calendar'][eng_feat] = data[city]['calendar'][original_feat]\\\n",
    "        .apply(lambda x: 1 if (x == 4 or x == 5) else 0)"
   ]
  },
  {
   "cell_type": "markdown",
   "metadata": {},
   "source": [
    "In the next sections I rely on the utility function `weekend_prices()`. The function call on `time_series_means()` to explore the within-week variability of average prices; that is, by separating the data in two subsets of prices: \n",
    "1. Friday and Saturday evenings, and \n",
    "2. the rest of the week.\n",
    "\n",
    "#### Weekend rates in Seattle"
   ]
  },
  {
   "cell_type": "code",
   "execution_count": null,
   "metadata": {},
   "outputs": [],
   "source": [
    "# Call function weekend_prices()\n",
    "utils.weekend_prices(data, city='Seattle')"
   ]
  },
  {
   "cell_type": "markdown",
   "metadata": {},
   "source": [
    "The two figures above clearly show how the noisy average price in Seattle can be smoothed out significantly by separating the data and making one plot of Friday-Saturdays price and another plot of average price for the rest of the week.\n",
    "\n",
    "The average Fri-Sat price remains approximately 6% higher than the average weekday price during the entire sample. \n",
    "\n",
    "#### Weekend rates in Boston"
   ]
  },
  {
   "cell_type": "code",
   "execution_count": null,
   "metadata": {},
   "outputs": [],
   "source": [
    "# Call function weekend_prices()\n",
    "utils.weekend_prices(data, city='Boston')"
   ]
  },
  {
   "cell_type": "markdown",
   "metadata": {},
   "source": [
    "In Boston, the gap between average Fri-Sat price and average weekday price is smaller and noisier than Seattle; in the range of 3-4%. \n",
    "\n",
    "The gap closes completely during the price spike associated with the 2017 Boston Marathon, presumably due to the event taking place on a Monday and causing a spike in demand for Sunday evening. "
   ]
  },
  {
   "cell_type": "markdown",
   "metadata": {},
   "source": [
    "---\n",
    "## Business Question 3:\n",
    "\n",
    "> **Is there a clear association between the nightly rate and the number of guest reviews received?**\n",
    "\n",
    "In the final section of this project I investigate the association between average prices and the quantity of reviews.\n",
    "\n",
    "It is important to stress the fact that the following analysis does not incorporate the content of the guest reviews. In other words, there is no distinction between good, neutral, and bad reviews. A more complete analysis of the relationship between prices and guest reviews ought to look into the content of the reviews in order to assess how different types of reviews are associated with average price. \n",
    "\n",
    "### Descriptive statistics of `total_reviews`\n",
    "\n",
    "The utility function `countplot_reviews()` takes in the `calendar` dataset, enhanced with the count of reviews, and performs two tasks:\n",
    "1. Prints descriptive statistics for reviews received. \n",
    "2. Builds a histogram of number of reviews by listing. "
   ]
  },
  {
   "cell_type": "code",
   "execution_count": null,
   "metadata": {
    "scrolled": true
   },
   "outputs": [],
   "source": [
    "# Call countplot_reviews() \n",
    "utils.countplot_reviews(data, 'Seattle', cutoff=None)"
   ]
  },
  {
   "cell_type": "markdown",
   "metadata": {},
   "source": [
    "The empirical distribution of reviews-per-listing is clearly highly skewed. In order to have a better visualization of the majority of the distribution area, I will cut off the x-axis at the 90th percentile of the distribution: 60 reviews for Seattle and 54 reviews for Boston.  "
   ]
  },
  {
   "cell_type": "code",
   "execution_count": null,
   "metadata": {},
   "outputs": [],
   "source": [
    "# Call countplot_reviews() with cutoff\n",
    "utils.countplot_reviews(data, 'Seattle', cutoff=60)"
   ]
  },
  {
   "cell_type": "code",
   "execution_count": null,
   "metadata": {},
   "outputs": [],
   "source": [
    "# Call countplot_reviews() with cutoff\n",
    "utils.countplot_reviews(data, 'Boston', cutoff=54)"
   ]
  },
  {
   "cell_type": "markdown",
   "metadata": {},
   "source": [
    "Since `total_reviews` only takes non-negative values and we are working with highly skewed distributions in the context of linear models, it will be reasonable to consider different transformations of `total_reviews`.\n",
    "\n",
    "### General linear model\n",
    "\n",
    "The general form of the linear regressors to be fitted in the upcoming sections is a model of $price$ for listing $i$ in time $t$, as function of $total.reviews$, $home.size$, and $location$ of listing $i$ — as well as $time.of.year_t$:\n",
    "\n",
    "\\begin{equation*}\n",
    "price_{it} = f(total\\_reviews_i) + g(home\\_size_i, location_i) + h(time\\_of\\_year_t)\n",
    "\\end{equation*}\n",
    "\n",
    "In order to fit different versions of this model, I built the function `linear_model()`. This function instantiates and fits a scikit-learn linear regression, allowing for some flexibility in the choice of the `price` and `total_reviews` measurements, as well as the choice of the numeric and categorical covariates or features. \n",
    "\n",
    "The main steps within the `linear_model()` function are:\n",
    "1. Instantiate a numeric transformer, to impute missing values (when necessary) and to standardize the values. \n",
    "2. Instantiate a categorical transformer, to impute missing values (when necessary) and to perform one-hot encoding.\n",
    "3. Fit and transform the numeric and categorical features using these transformers.\n",
    "4. Build the `X` matrix by appending the transformed covariates to the independent variable of interest.\n",
    "5. Build the `y` vector, considering whether a log transformation is required. \n",
    "6. Fit the linear regression model.\n",
    "7. Print the main coefficient for the independent variable of interest — either the number of reviews or a binary indicator for having any number of reviews. \n",
    "8. Return the fitted model, `X`, and `y`.\n",
    "\n",
    "### Prepare data for linear regression\n",
    "\n",
    "The models in the upcoming sections will be estimated using modules in **scikit-learn**. Hence, we need to engineer or transform the data into the type of array-like data that is required by scikit-learn functions. \n",
    "\n",
    "Additionally, in order to use the data for both cities in the estimation step of the modeling below, I concatenate the datasets for Boston and Seattle into a single DataFrame, `df_lm`. \n",
    "\n",
    "In order to keep track of the city, I add the numeric, binary feature `boston` (1 if city is Boston, 0 otherwise). "
   ]
  },
  {
   "cell_type": "code",
   "execution_count": null,
   "metadata": {},
   "outputs": [],
   "source": [
    "# Instantiate dictionary \n",
    "df_lm = dict()\n",
    "# Control variables to select from 'listings' \n",
    "listing_feats = [\n",
    "    'id', \n",
    "    'neighbourhood_cleansed', \n",
    "    'zipcode', \n",
    "    'bedrooms', \n",
    "    'accommodates'\n",
    "    ]\n",
    "# Loop over cities\n",
    "for city in data.keys():\n",
    "    # Merge 'calendar.csv' and selected features in 'listings.csv' \n",
    "    df_lm[city] = data[city]['calendar'].merge(\n",
    "        data[city]['listings'][listing_feats], how='left', \n",
    "            left_on='listing_id', right_on='id')\n",
    "    \n",
    "    # Create a binary variable for city (Boston = 1)\n",
    "    if city == 'Boston': \n",
    "        df_lm[city]['boston'] = 1 \n",
    "    else:\n",
    "        df_lm[city]['boston'] = 0"
   ]
  },
  {
   "cell_type": "code",
   "execution_count": null,
   "metadata": {},
   "outputs": [],
   "source": [
    "# Transform dictionary into single dataframe incl. both cities\n",
    "df_lm = pd.concat([df_lm['Boston'], df_lm['Seattle']], axis=0)"
   ]
  },
  {
   "cell_type": "markdown",
   "metadata": {},
   "source": [
    "Finally, since we are only investigating the relationship between `price` and `total_reviews`, I drop all observations with missing values for price; that is, observations in which a listing is marked as unavailable. "
   ]
  },
  {
   "cell_type": "code",
   "execution_count": null,
   "metadata": {},
   "outputs": [],
   "source": [
    "# Check for missing values in the new dataframe\n",
    "df_lm.isnull().sum().sort_values(ascending=False)"
   ]
  },
  {
   "cell_type": "code",
   "execution_count": null,
   "metadata": {},
   "outputs": [],
   "source": [
    "# Drop rows with missing values for price\n",
    "df_lm = df_lm.dropna(subset=['price_re'])\n",
    "df_lm.isnull().sum().sort_values(ascending=False)"
   ]
  },
  {
   "cell_type": "markdown",
   "metadata": {},
   "source": [
    "The last table shows that the remaining dataset only contains observations with a value for `price`. \n",
    "\n",
    "However, the table also shows that `zipcode` and `bedrooms` still contain a large number of missing values. Consequently, I will not use these feature to build the terms $location$ and $home.size$ in the general model — instead I will use, respectively, `neighbourhood_cleansed` and `accommodates`."
   ]
  },
  {
   "cell_type": "code",
   "execution_count": null,
   "metadata": {},
   "outputs": [],
   "source": [
    "# Display first few rows of created dataframe\n",
    "#df_lm.head()"
   ]
  },
  {
   "cell_type": "markdown",
   "metadata": {},
   "source": [
    "### Naive, pooled linear model\n",
    "\n",
    "This is the simplest linear model of `price` as function of `total_reviews`.\n",
    "\n",
    "\\begin{equation*}\n",
    "log(price_{it}) = \\alpha + \\beta.total\\_reviews_i\n",
    "\\end{equation*}\n",
    "\n",
    "I call this formulation \"naive\" because it does not account for characteristics of a home that should obviously be associated with price. Also, this is a \"pooled\" model because we are aggregating the data across its time dimension.  "
   ]
  },
  {
   "cell_type": "code",
   "execution_count": null,
   "metadata": {},
   "outputs": [],
   "source": [
    "# Call linear_model() and store fitted model\n",
    "lm_1 = utils.linear_model(data=df_lm, outcome='log_price', \n",
    "                          ind_var='total_reviews')"
   ]
  },
  {
   "cell_type": "markdown",
   "metadata": {},
   "source": [
    "The resulting estimate is **-0.17**. Since our outcome is the log of price, this estimate can be considered a percentage change in the main outcome, price, as function of the marginal review.\n",
    "\n",
    "In other words the naive-pooled-model estimate suggests that, on average, every additional guest review is associated with a decrease in listing price of 0.17%.\n",
    "\n",
    "This is counterintuitive if one believes that reviews tend to be positive and associated with good Airbnb hosting; which in turn should provide leverage for host to post higher prices for their homes. \n",
    "\n",
    "### Pooled linear model with controls for home size and location\n",
    "\n",
    "This model incorporates controls for home size and location by including the features `accommodates` and `neighbourhood_cleansed`. However, it still provides a pooled estimate since it collapses the time dimension of the data.  \n",
    "\n",
    "\\begin{equation*}\n",
    "log(price_{it}) = \\alpha + \\beta.total\\_reviews_i + \\gamma.f(max\\_occupancy_i, neighborhood_i)\n",
    "\\end{equation*} "
   ]
  },
  {
   "cell_type": "code",
   "execution_count": null,
   "metadata": {},
   "outputs": [],
   "source": [
    "# Select numeric and categorical control variables\n",
    "numeric_features = ['accommodates']\n",
    "categorical_features = ['neighbourhood_cleansed']\n",
    "\n",
    "# Call linear_model() and store fitted model\n",
    "lm_2 = utils.linear_model(data=df_lm, outcome='log_price', \n",
    "                          ind_var='total_reviews', \n",
    "                          numeric_features=numeric_features, \n",
    "                          categorical_features=categorical_features)"
   ]
  },
  {
   "cell_type": "markdown",
   "metadata": {},
   "source": [
    "Adding controls for home size and location produces an estimate that is about half of that of the naive model. The estimate suggests that, on average, every additional guest review is associated with a decrease in listing price of 0.09%.\n",
    "\n",
    "### Linear model with controls for home size, location, and time trends\n",
    "\n",
    "This is the first of the models to incorporate the time dimension of the data, by including a linear time trend plus its square and cube.\n",
    "\n",
    "\\begin{equation*}\n",
    "log(price_{it}) = \\alpha + \\beta.total\\_reviews_i + \\gamma.f(max\\_occupancy_i, neighborhood_i) + \\delta.g(day\\_of\\_year_t)\n",
    "\\end{equation*}\n",
    "\n",
    "Below I engineer the necessary features for the time-trend term."
   ]
  },
  {
   "cell_type": "code",
   "execution_count": null,
   "metadata": {},
   "outputs": [],
   "source": [
    "# Create non-linear time trends\n",
    "df_lm['day_of_year_2'] = df_lm['day_of_year']**2\n",
    "df_lm['day_of_year_3'] = df_lm['day_of_year']**3"
   ]
  },
  {
   "cell_type": "code",
   "execution_count": null,
   "metadata": {},
   "outputs": [],
   "source": [
    "# Select numeric and categorical control variables\n",
    "numeric_features = ['accommodates', 'day_of_year', \n",
    "                    'day_of_year_2', 'day_of_year_3']\n",
    "categorical_features = ['neighbourhood_cleansed']\n",
    "\n",
    "# Call linear_model() and store fitted model\n",
    "lm_3, X, y = utils.linear_model(data=df_lm, outcome='log_price', \n",
    "                                ind_var='total_reviews',\n",
    "                                numeric_features=numeric_features, \n",
    "                                categorical_features=categorical_features)"
   ]
  },
  {
   "cell_type": "markdown",
   "metadata": {},
   "source": [
    "The new estimate indicates that if we control for home size, location, and time trends, every additional guest review, on average, is associated with a decrease in listing price of 0.08%.\n",
    "\n",
    "It looks like adding controls for time-trends does not have a substantial impact on our estimate of interest. This was to be expected since **our independent variable of interest, `total_reviews`, does not itself vary with time in the `calendar` datasets, which implies that the value for the estimate on `total_reviews` is driven by the variation of prices across homes of similar size in the same geographic area.**\n",
    "\n",
    "### Inference for the full model with controls\n",
    "\n",
    "Until now we have only looked at the point estimates for the parameter of interest, $\\beta$, in all the models. In this section I use tools provided in the module **Statsmodels** to improve our understanding of the precision of our estimates. \n",
    "\n",
    "Statsmodels' tools allow us to specify a robust covariance matrix, clustered at the level of `listing_id` (i.e., individual homes), which should result in more conservative confidence interval."
   ]
  },
  {
   "cell_type": "code",
   "execution_count": null,
   "metadata": {},
   "outputs": [],
   "source": [
    "# Pandas series to Numpy array\n",
    "listing_ids = df_lm['listing_id'].get_values()\n",
    "# Run sm.OLS with robust standard errors\n",
    "results = sm.OLS(y, sm.add_constant(X)).fit(cov_type='cluster', \n",
    "                                            cov_kwds={'groups': listing_ids})"
   ]
  },
  {
   "cell_type": "code",
   "execution_count": null,
   "metadata": {},
   "outputs": [],
   "source": [
    "# Extract results summary from OLS fit\n",
    "summary_tables = results.summary2()\n",
    "# Select parameters of interest and rename labels\n",
    "new_index = pd.Series(['alpha', 'beta'])\n",
    "summary_tables.tables[1] = summary_tables.tables[1][0:2].set_index(new_index)\n",
    "# Select and print table of results\n",
    "summary_tables.tables = summary_tables.tables[0:2]\n",
    "print(summary_tables)"
   ]
  },
  {
   "cell_type": "markdown",
   "metadata": {},
   "source": [
    "As shown in the table above, the 95% confidence interval for $\\beta$ in the full model is **(-0.0011, -0.0006)**.\n",
    "\n",
    "This implies that if the full model — with controls for home size, location, and time trends — were representative of the real association between listing prices and reviews on Airbnb, we could be highly confident that we had a precise estimate of the underlying parameter $\\beta$. \n",
    "\n",
    "### Association between listing price and being reviewed   \n",
    "\n",
    "For this final section of the analysis, I investigate the association between prices and having either 0 reviews or 1 or more reviews. In order to do this, I engineer the indicator feature `reviewed` which takes value 0 for listings without any reviews, and the value 1 for listing with 1 or more reviews. "
   ]
  },
  {
   "cell_type": "code",
   "execution_count": null,
   "metadata": {},
   "outputs": [],
   "source": [
    "# Create new variable 'reviewed'\n",
    "df_lm['reviewed'] = df_lm['total_reviews'].apply(lambda x: 0 if x == 0 else 1)"
   ]
  },
  {
   "cell_type": "markdown",
   "metadata": {},
   "source": [
    "The linear model with full controls is specified below:\n",
    "\n",
    "\\begin{equation*}\n",
    "log(price_{it}) = \\alpha + \\beta.reviewed_i + \\gamma.f(max\\_occupancy_i, neighborhood_i) + \\delta.g(day\\_of\\_year_t)\n",
    "\\end{equation*}\n",
    "\n",
    "Below I estimate the model, going back to using scikit-learn's linear regressor. "
   ]
  },
  {
   "cell_type": "code",
   "execution_count": null,
   "metadata": {},
   "outputs": [],
   "source": [
    "# Select numeric and categorical control variables\n",
    "numeric_features = ['accommodates', 'day_of_year', \n",
    "                    'day_of_year_2', 'day_of_year_3']\n",
    "categorical_features = ['neighbourhood_cleansed']\n",
    "\n",
    "# Call linear_model() and store fitted model\n",
    "lm_4 = utils.linear_model(data=df_lm, outcome='log_price', ind_var='reviewed',\n",
    "                          numeric_features=numeric_features, \n",
    "                          categorical_features=categorical_features)"
   ]
  },
  {
   "cell_type": "markdown",
   "metadata": {},
   "source": [
    "The last estimate for $\\beta$ indicates that if we control for home size, location, and time trends, having 1 or more guest reviews is associated with an average decrease in  price of 6%.\n",
    "\n",
    "Once again, this is a counterintuitive finding if one believes that being a reviewed home provides the host leverage to increase its price. \n",
    "\n",
    "On the other hand, if the saliency of bad experiences on Airbnb drive guests to disproportionately post bad reviews, then our measurement would be consistent with that underlying series of events. \n",
    "\n",
    "Finally, an alternative explanation would be that there are selection bias problems in the sample with respect to guest reviews. If there is some underlying mechanism by which the reviewed listings are systematically different from the listings with zero reviews, then the average difference in price would be impossible to predict without a conceptual understanding of said systematic differences."
   ]
  }
 ],
 "metadata": {
  "kernelspec": {
   "display_name": "Python [conda env:datascientist-nd]",
   "language": "python",
   "name": "conda-env-datascientist-nd-py"
  },
  "language_info": {
   "codemirror_mode": {
    "name": "ipython",
    "version": 3
   },
   "file_extension": ".py",
   "mimetype": "text/x-python",
   "name": "python",
   "nbconvert_exporter": "python",
   "pygments_lexer": "ipython3",
   "version": "3.7.1"
  },
  "nbpresent": {
   "slides": {},
   "themes": {
    "default": "93b48528-a8f4-48c4-afc8-cecc30275d12",
    "theme": {
     "93b48528-a8f4-48c4-afc8-cecc30275d12": {
      "backgrounds": {
       "dc7afa04-bf90-40b1-82a5-726e3cff5267": {
        "background-color": "31af15d2-7e15-44c5-ab5e-e04b16a89eff",
        "id": "dc7afa04-bf90-40b1-82a5-726e3cff5267"
       }
      },
      "id": "93b48528-a8f4-48c4-afc8-cecc30275d12",
      "palette": {
       "19cc588f-0593-49c9-9f4b-e4d7cc113b1c": {
        "id": "19cc588f-0593-49c9-9f4b-e4d7cc113b1c",
        "rgb": [
         252,
         252,
         252
        ]
       },
       "31af15d2-7e15-44c5-ab5e-e04b16a89eff": {
        "id": "31af15d2-7e15-44c5-ab5e-e04b16a89eff",
        "rgb": [
         68,
         68,
         68
        ]
       },
       "50f92c45-a630-455b-aec3-788680ec7410": {
        "id": "50f92c45-a630-455b-aec3-788680ec7410",
        "rgb": [
         197,
         226,
         245
        ]
       },
       "c5cc3653-2ee1-402a-aba2-7caae1da4f6c": {
        "id": "c5cc3653-2ee1-402a-aba2-7caae1da4f6c",
        "rgb": [
         43,
         126,
         184
        ]
       },
       "efa7f048-9acb-414c-8b04-a26811511a21": {
        "id": "efa7f048-9acb-414c-8b04-a26811511a21",
        "rgb": [
         25.118061674008803,
         73.60176211453744,
         107.4819383259912
        ]
       }
      },
      "rules": {
       "a": {
        "color": "19cc588f-0593-49c9-9f4b-e4d7cc113b1c"
       },
       "blockquote": {
        "color": "50f92c45-a630-455b-aec3-788680ec7410",
        "font-size": 3
       },
       "code": {
        "font-family": "Anonymous Pro"
       },
       "h1": {
        "color": "19cc588f-0593-49c9-9f4b-e4d7cc113b1c",
        "font-family": "Merriweather",
        "font-size": 8
       },
       "h2": {
        "color": "19cc588f-0593-49c9-9f4b-e4d7cc113b1c",
        "font-family": "Merriweather",
        "font-size": 6
       },
       "h3": {
        "color": "50f92c45-a630-455b-aec3-788680ec7410",
        "font-family": "Lato",
        "font-size": 5.5
       },
       "h4": {
        "color": "c5cc3653-2ee1-402a-aba2-7caae1da4f6c",
        "font-family": "Lato",
        "font-size": 5
       },
       "h5": {
        "font-family": "Lato"
       },
       "h6": {
        "font-family": "Lato"
       },
       "h7": {
        "font-family": "Lato"
       },
       "li": {
        "color": "50f92c45-a630-455b-aec3-788680ec7410",
        "font-size": 3.25
       },
       "pre": {
        "font-family": "Anonymous Pro",
        "font-size": 4
       }
      },
      "text-base": {
       "color": "19cc588f-0593-49c9-9f4b-e4d7cc113b1c",
       "font-family": "Lato",
       "font-size": 4
      }
     }
    }
   }
  },
  "toc": {
   "base_numbering": 1,
   "nav_menu": {},
   "number_sections": true,
   "sideBar": true,
   "skip_h1_title": true,
   "title_cell": "Table of Contents",
   "title_sidebar": "Contents",
   "toc_cell": false,
   "toc_position": {},
   "toc_section_display": true,
   "toc_window_display": true
  },
  "varInspector": {
   "cols": {
    "lenName": 16,
    "lenType": 16,
    "lenVar": 40
   },
   "kernels_config": {
    "python": {
     "delete_cmd_postfix": "",
     "delete_cmd_prefix": "del ",
     "library": "var_list.py",
     "varRefreshCmd": "print(var_dic_list())"
    },
    "r": {
     "delete_cmd_postfix": ") ",
     "delete_cmd_prefix": "rm(",
     "library": "var_list.r",
     "varRefreshCmd": "cat(var_dic_list()) "
    }
   },
   "types_to_exclude": [
    "module",
    "function",
    "builtin_function_or_method",
    "instance",
    "_Feature"
   ],
   "window_display": false
  }
 },
 "nbformat": 4,
 "nbformat_minor": 2
}
